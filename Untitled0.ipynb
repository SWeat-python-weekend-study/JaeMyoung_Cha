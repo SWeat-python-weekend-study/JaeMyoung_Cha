{
  "nbformat": 4,
  "nbformat_minor": 0,
  "metadata": {
    "colab": {
      "name": "Untitled0.ipynb",
      "provenance": [],
      "toc_visible": true,
      "authorship_tag": "ABX9TyMKO+AReqh91FnUcCZATpX4",
      "include_colab_link": true
    },
    "kernelspec": {
      "name": "python3",
      "display_name": "Python 3"
    }
  },
  "cells": [
    {
      "cell_type": "markdown",
      "metadata": {
        "id": "view-in-github",
        "colab_type": "text"
      },
      "source": [
        "<a href=\"https://colab.research.google.com/github/SWeat-python-weekend-study/JaeMyoung_Cha/blob/main/Untitled0.ipynb\" target=\"_parent\"><img src=\"https://colab.research.google.com/assets/colab-badge.svg\" alt=\"Open In Colab\"/></a>"
      ]
    },
    {
      "cell_type": "markdown",
      "metadata": {
        "id": "Kd5NW6jInvAB"
      },
      "source": [
        "**0. Colab**\r\n"
      ]
    },
    {
      "cell_type": "code",
      "metadata": {
        "colab": {
          "base_uri": "https://localhost:8080/"
        },
        "id": "GLlIIjaEOmrx",
        "outputId": "f4da20f3-acf0-4dac-9b8a-61fdb8dfdd0e"
      },
      "source": [
        "print('hello')"
      ],
      "execution_count": 71,
      "outputs": [
        {
          "output_type": "stream",
          "text": [
            "hello\n"
          ],
          "name": "stdout"
        }
      ]
    },
    {
      "cell_type": "markdown",
      "metadata": {
        "id": "AUGS5wQiOotb"
      },
      "source": [
        "## 새 섹션"
      ]
    },
    {
      "cell_type": "markdown",
      "metadata": {
        "id": "92YNQ4ikoN7o"
      },
      "source": [
        "- <스스로> 마크다운 실습"
      ]
    },
    {
      "cell_type": "code",
      "metadata": {
        "colab": {
          "base_uri": "https://localhost:8080/"
        },
        "id": "J4PITutpovRx",
        "outputId": "289157d5-fe1c-46dd-fe8a-6cee55682813"
      },
      "source": [
        "!pwd"
      ],
      "execution_count": 72,
      "outputs": [
        {
          "output_type": "stream",
          "text": [
            "/content\n"
          ],
          "name": "stdout"
        }
      ]
    },
    {
      "cell_type": "code",
      "metadata": {
        "id": "VVwWj__A-02I",
        "colab": {
          "base_uri": "https://localhost:8080/"
        },
        "outputId": "9fe4273c-e044-423a-9edf-63f07ff78cb0"
      },
      "source": [
        "!ls"
      ],
      "execution_count": 73,
      "outputs": [
        {
          "output_type": "stream",
          "text": [
            "sample_data  student_result.txt  student.txt\n"
          ],
          "name": "stdout"
        }
      ]
    },
    {
      "cell_type": "markdown",
      "metadata": {
        "id": "40VuYJCsCgH8"
      },
      "source": [
        "**1. iterator**\r\n",
        "- iterable: 반복 가능한 객체  \r\n",
        "ex) 문자열, 리스트, 딕셔너리, 집합  \r\n",
        " 요소가 여러개 들어있고, 한 번에 하나씩 꺼낼 수 있는 객체  \r\n",
        "  \r\n",
        "- \\_\\_iter__ 메서드가 해당 객체에 있는지 확인\r\n",
        "\r\n",
        "\r\n"
      ]
    },
    {
      "cell_type": "code",
      "metadata": {
        "id": "xL0Wy8nwCkaB",
        "colab": {
          "base_uri": "https://localhost:8080/"
        },
        "outputId": "af408389-1eed-402b-800c-344bb5bb7d06"
      },
      "source": [
        "dir([1,2,3])"
      ],
      "execution_count": 74,
      "outputs": [
        {
          "output_type": "execute_result",
          "data": {
            "text/plain": [
              "['__add__',\n",
              " '__class__',\n",
              " '__contains__',\n",
              " '__delattr__',\n",
              " '__delitem__',\n",
              " '__dir__',\n",
              " '__doc__',\n",
              " '__eq__',\n",
              " '__format__',\n",
              " '__ge__',\n",
              " '__getattribute__',\n",
              " '__getitem__',\n",
              " '__gt__',\n",
              " '__hash__',\n",
              " '__iadd__',\n",
              " '__imul__',\n",
              " '__init__',\n",
              " '__init_subclass__',\n",
              " '__iter__',\n",
              " '__le__',\n",
              " '__len__',\n",
              " '__lt__',\n",
              " '__mul__',\n",
              " '__ne__',\n",
              " '__new__',\n",
              " '__reduce__',\n",
              " '__reduce_ex__',\n",
              " '__repr__',\n",
              " '__reversed__',\n",
              " '__rmul__',\n",
              " '__setattr__',\n",
              " '__setitem__',\n",
              " '__sizeof__',\n",
              " '__str__',\n",
              " '__subclasshook__',\n",
              " 'append',\n",
              " 'clear',\n",
              " 'copy',\n",
              " 'count',\n",
              " 'extend',\n",
              " 'index',\n",
              " 'insert',\n",
              " 'pop',\n",
              " 'remove',\n",
              " 'reverse',\n",
              " 'sort']"
            ]
          },
          "metadata": {
            "tags": []
          },
          "execution_count": 74
        }
      ]
    },
    {
      "cell_type": "code",
      "metadata": {
        "id": "Seq22FxZED_y",
        "colab": {
          "base_uri": "https://localhost:8080/"
        },
        "outputId": "3116c2f6-af0b-4730-f43a-9adfde9cca81"
      },
      "source": [
        "[1, 2, 3].__iter__()"
      ],
      "execution_count": 75,
      "outputs": [
        {
          "output_type": "execute_result",
          "data": {
            "text/plain": [
              "<list_iterator at 0x7f5757d204e0>"
            ]
          },
          "metadata": {
            "tags": []
          },
          "execution_count": 75
        }
      ]
    },
    {
      "cell_type": "markdown",
      "metadata": {
        "id": "03bEx3WeEkFo"
      },
      "source": [
        "\r\n",
        "\r\n",
        "---\r\n",
        "\r\n"
      ]
    },
    {
      "cell_type": "code",
      "metadata": {
        "id": "yHhgKdnaEPVb"
      },
      "source": [
        "it = [1, 2, 3].__iter__() #리스트의 이터레이터를 it 변수에 저장 후 __next__ 메서드 호출"
      ],
      "execution_count": 76,
      "outputs": []
    },
    {
      "cell_type": "code",
      "metadata": {
        "id": "NhJviSOBEW1F",
        "colab": {
          "base_uri": "https://localhost:8080/"
        },
        "outputId": "2c3bfdde-c6f9-456c-9ee2-08eb882f40dc"
      },
      "source": [
        "it.__next__()"
      ],
      "execution_count": 77,
      "outputs": [
        {
          "output_type": "execute_result",
          "data": {
            "text/plain": [
              "1"
            ]
          },
          "metadata": {
            "tags": []
          },
          "execution_count": 77
        }
      ]
    },
    {
      "cell_type": "code",
      "metadata": {
        "id": "wpCgno5REYTb",
        "colab": {
          "base_uri": "https://localhost:8080/"
        },
        "outputId": "29678930-2172-495c-e975-bfe9fa45c246"
      },
      "source": [
        "it.__next__()"
      ],
      "execution_count": 78,
      "outputs": [
        {
          "output_type": "execute_result",
          "data": {
            "text/plain": [
              "2"
            ]
          },
          "metadata": {
            "tags": []
          },
          "execution_count": 78
        }
      ]
    },
    {
      "cell_type": "code",
      "metadata": {
        "id": "cIYp0RHSEZW_",
        "colab": {
          "base_uri": "https://localhost:8080/"
        },
        "outputId": "cf709621-048c-4c1e-d464-99119b2776d3"
      },
      "source": [
        "it.__next__()"
      ],
      "execution_count": 79,
      "outputs": [
        {
          "output_type": "execute_result",
          "data": {
            "text/plain": [
              "3"
            ]
          },
          "metadata": {
            "tags": []
          },
          "execution_count": 79
        }
      ]
    },
    {
      "cell_type": "code",
      "metadata": {
        "id": "H0WUnqJLEajN",
        "colab": {
          "base_uri": "https://localhost:8080/",
          "height": 169
        },
        "outputId": "2f0f05f0-9ef1-415d-bb19-2638150941aa"
      },
      "source": [
        "it.__next__() #더 이상 꺼낼 요소가 없으므로 StopIteration Exception 발생"
      ],
      "execution_count": 81,
      "outputs": [
        {
          "output_type": "error",
          "ename": "StopIteration",
          "evalue": "ignored",
          "traceback": [
            "\u001b[0;31m---------------------------------------------------------------------------\u001b[0m",
            "\u001b[0;31mStopIteration\u001b[0m                             Traceback (most recent call last)",
            "\u001b[0;32m<ipython-input-81-d7439b90b290>\u001b[0m in \u001b[0;36m<module>\u001b[0;34m()\u001b[0m\n\u001b[0;32m----> 1\u001b[0;31m \u001b[0mit\u001b[0m\u001b[0;34m.\u001b[0m\u001b[0m__next__\u001b[0m\u001b[0;34m(\u001b[0m\u001b[0;34m)\u001b[0m \u001b[0;31m#더 이상 꺼낼 요소가 없으므로 StopIteration Exception 발생\u001b[0m\u001b[0;34m\u001b[0m\u001b[0;34m\u001b[0m\u001b[0m\n\u001b[0m",
            "\u001b[0;31mStopIteration\u001b[0m: "
          ]
        }
      ]
    },
    {
      "cell_type": "markdown",
      "metadata": {
        "id": "ulPiDxY8EnA2"
      },
      "source": [
        "\r\n",
        "\r\n",
        "---\r\n",
        "\r\n"
      ]
    },
    {
      "cell_type": "code",
      "metadata": {
        "id": "4qgLNDMKEn1M",
        "colab": {
          "base_uri": "https://localhost:8080/"
        },
        "outputId": "6b4faf14-cf33-45e6-b8f5-311668b265e9"
      },
      "source": [
        "'Hello, world!'.__iter__()"
      ],
      "execution_count": 82,
      "outputs": [
        {
          "output_type": "execute_result",
          "data": {
            "text/plain": [
              "<str_iterator at 0x7f5757d72908>"
            ]
          },
          "metadata": {
            "tags": []
          },
          "execution_count": 82
        }
      ]
    },
    {
      "cell_type": "code",
      "metadata": {
        "id": "AMwFuE3MExQu",
        "colab": {
          "base_uri": "https://localhost:8080/"
        },
        "outputId": "5548db5d-f29b-4290-b32f-5c96b94676d9"
      },
      "source": [
        "{'a': 1, 'b': 2}.__iter__()"
      ],
      "execution_count": 83,
      "outputs": [
        {
          "output_type": "execute_result",
          "data": {
            "text/plain": [
              "<dict_keyiterator at 0x7f5757d168b8>"
            ]
          },
          "metadata": {
            "tags": []
          },
          "execution_count": 83
        }
      ]
    },
    {
      "cell_type": "code",
      "metadata": {
        "id": "VAT2FFb6Ezqm",
        "colab": {
          "base_uri": "https://localhost:8080/"
        },
        "outputId": "30edd78c-dbf3-4e85-8ea9-2906497fb150"
      },
      "source": [
        "{1, 2, 3}.__iter__()"
      ],
      "execution_count": 84,
      "outputs": [
        {
          "output_type": "execute_result",
          "data": {
            "text/plain": [
              "<set_iterator at 0x7f5757d6a5e8>"
            ]
          },
          "metadata": {
            "tags": []
          },
          "execution_count": 84
        }
      ]
    },
    {
      "cell_type": "markdown",
      "metadata": {
        "id": "6y-FsYT1E2ps"
      },
      "source": [
        "\r\n",
        "\r\n",
        "---\r\n",
        "\r\n"
      ]
    },
    {
      "cell_type": "code",
      "metadata": {
        "id": "ZivClKH8E38V"
      },
      "source": [
        "it = range(3).__iter__()"
      ],
      "execution_count": 85,
      "outputs": []
    },
    {
      "cell_type": "code",
      "metadata": {
        "id": "O08jvvNZE64-",
        "colab": {
          "base_uri": "https://localhost:8080/"
        },
        "outputId": "87ae9af1-1c83-461c-e920-75f19043f189"
      },
      "source": [
        "it.__next__()"
      ],
      "execution_count": 86,
      "outputs": [
        {
          "output_type": "execute_result",
          "data": {
            "text/plain": [
              "0"
            ]
          },
          "metadata": {
            "tags": []
          },
          "execution_count": 86
        }
      ]
    },
    {
      "cell_type": "code",
      "metadata": {
        "id": "VAcdtOfAE7QU",
        "colab": {
          "base_uri": "https://localhost:8080/"
        },
        "outputId": "2bf09a6d-7383-4494-fbe1-27d164c91f56"
      },
      "source": [
        "it.__next__()"
      ],
      "execution_count": 87,
      "outputs": [
        {
          "output_type": "execute_result",
          "data": {
            "text/plain": [
              "1"
            ]
          },
          "metadata": {
            "tags": []
          },
          "execution_count": 87
        }
      ]
    },
    {
      "cell_type": "code",
      "metadata": {
        "id": "NRNd2dluE7k0",
        "colab": {
          "base_uri": "https://localhost:8080/"
        },
        "outputId": "01bf025e-ca88-4256-fa3e-592c588759f2"
      },
      "source": [
        "it.__next__()"
      ],
      "execution_count": 88,
      "outputs": [
        {
          "output_type": "execute_result",
          "data": {
            "text/plain": [
              "2"
            ]
          },
          "metadata": {
            "tags": []
          },
          "execution_count": 88
        }
      ]
    },
    {
      "cell_type": "code",
      "metadata": {
        "id": "7e1LVArOE9fK",
        "colab": {
          "base_uri": "https://localhost:8080/",
          "height": 169
        },
        "outputId": "21616e9d-ea62-40e4-e837-789bc0d7c71f"
      },
      "source": [
        "it.__next__()"
      ],
      "execution_count": 90,
      "outputs": [
        {
          "output_type": "error",
          "ename": "StopIteration",
          "evalue": "ignored",
          "traceback": [
            "\u001b[0;31m---------------------------------------------------------------------------\u001b[0m",
            "\u001b[0;31mStopIteration\u001b[0m                             Traceback (most recent call last)",
            "\u001b[0;32m<ipython-input-90-74e64ed6c80d>\u001b[0m in \u001b[0;36m<module>\u001b[0;34m()\u001b[0m\n\u001b[0;32m----> 1\u001b[0;31m \u001b[0mit\u001b[0m\u001b[0;34m.\u001b[0m\u001b[0m__next__\u001b[0m\u001b[0;34m(\u001b[0m\u001b[0;34m)\u001b[0m\u001b[0;34m\u001b[0m\u001b[0;34m\u001b[0m\u001b[0m\n\u001b[0m",
            "\u001b[0;31mStopIteration\u001b[0m: "
          ]
        }
      ]
    },
    {
      "cell_type": "markdown",
      "metadata": {
        "id": "obudCleDGA29"
      },
      "source": [
        "**2. Generator**\r\n",
        "\r\n",
        "- generator: iterator를 생성해주는 함수  \r\n",
        "generator는 함수 안에서 yield라는 키워드만 사용하면 됨\r\n",
        "- iterator보다 간단"
      ]
    },
    {
      "cell_type": "code",
      "metadata": {
        "id": "avYPvcnOGjJI",
        "colab": {
          "base_uri": "https://localhost:8080/"
        },
        "outputId": "079a2f4c-a0c2-4ea0-8fc0-a5d7a0eeedd1"
      },
      "source": [
        "def number_generator():\r\n",
        "    yield 0\r\n",
        "    yield 1\r\n",
        "    yield 2\r\n",
        " \r\n",
        "for i in number_generator():\r\n",
        "    print(i)"
      ],
      "execution_count": 91,
      "outputs": [
        {
          "output_type": "stream",
          "text": [
            "0\n",
            "1\n",
            "2\n"
          ],
          "name": "stdout"
        }
      ]
    },
    {
      "cell_type": "code",
      "metadata": {
        "id": "PudO8DEdGnG4",
        "colab": {
          "base_uri": "https://localhost:8080/"
        },
        "outputId": "98db54b0-c754-4aa7-9e02-8c9e4939b83f"
      },
      "source": [
        "def g ():\r\n",
        "  print('one')\r\n",
        "  yield 1 #첫번째 next 호출 시 여기까지 처리\r\n",
        "  print('two')\r\n",
        "  yield 2 #두번째 next 호출 시 여기까지 처리\r\n",
        "  print('three')\r\n",
        "  yield 3 #세번째 next 호출 시 여기까지 처리\r\n",
        "\r\n",
        "_ = g()\r\n",
        "next(_)\r\n",
        "next(_)\r\n",
        "next(_)"
      ],
      "execution_count": 92,
      "outputs": [
        {
          "output_type": "stream",
          "text": [
            "one\n",
            "two\n",
            "three\n"
          ],
          "name": "stdout"
        },
        {
          "output_type": "execute_result",
          "data": {
            "text/plain": [
              "3"
            ]
          },
          "metadata": {
            "tags": []
          },
          "execution_count": 92
        }
      ]
    },
    {
      "cell_type": "code",
      "metadata": {
        "id": "HSsicq3IHJBS",
        "colab": {
          "base_uri": "https://localhost:8080/"
        },
        "outputId": "90861c05-2557-48e9-dd63-fe388016a09a"
      },
      "source": [
        "#반복문 처리 시 활용\r\n",
        "def g():\r\n",
        "  A = [1,2,3,4,5]\r\n",
        "  for _ in A:\r\n",
        "    yield _\r\n",
        "\r\n",
        "for _ in g():\r\n",
        "  print( _ * 2)"
      ],
      "execution_count": 93,
      "outputs": [
        {
          "output_type": "stream",
          "text": [
            "2\n",
            "4\n",
            "6\n",
            "8\n",
            "10\n"
          ],
          "name": "stdout"
        }
      ]
    },
    {
      "cell_type": "markdown",
      "metadata": {
        "id": "gl32tx5GIbvg"
      },
      "source": [
        "\r\n",
        "\r\n",
        "---\r\n",
        "\r\n"
      ]
    },
    {
      "cell_type": "code",
      "metadata": {
        "id": "TaPj6IWIIcq8",
        "colab": {
          "base_uri": "https://localhost:8080/"
        },
        "outputId": "2c09e8a3-2ede-456b-dfee-5dc14e1a8b4d"
      },
      "source": [
        "g = number_generator()\r\n",
        "g"
      ],
      "execution_count": 94,
      "outputs": [
        {
          "output_type": "execute_result",
          "data": {
            "text/plain": [
              "<generator object number_generator at 0x7f5757d19a40>"
            ]
          },
          "metadata": {
            "tags": []
          },
          "execution_count": 94
        }
      ]
    },
    {
      "cell_type": "code",
      "metadata": {
        "id": "XQdD2eKMIgNU",
        "colab": {
          "base_uri": "https://localhost:8080/"
        },
        "outputId": "a8d2840b-bc31-41ff-e67c-31e68b0c9b8a"
      },
      "source": [
        "g.__next__()"
      ],
      "execution_count": 95,
      "outputs": [
        {
          "output_type": "execute_result",
          "data": {
            "text/plain": [
              "0"
            ]
          },
          "metadata": {
            "tags": []
          },
          "execution_count": 95
        }
      ]
    },
    {
      "cell_type": "code",
      "metadata": {
        "id": "tzsFc0XKIhxv",
        "colab": {
          "base_uri": "https://localhost:8080/"
        },
        "outputId": "86a4f804-884a-409f-b280-ad7e403604d4"
      },
      "source": [
        "g.__next__()"
      ],
      "execution_count": 96,
      "outputs": [
        {
          "output_type": "execute_result",
          "data": {
            "text/plain": [
              "1"
            ]
          },
          "metadata": {
            "tags": []
          },
          "execution_count": 96
        }
      ]
    },
    {
      "cell_type": "code",
      "metadata": {
        "id": "eiZndpQeIivH",
        "colab": {
          "base_uri": "https://localhost:8080/"
        },
        "outputId": "d2b8c25c-ecf9-41e2-a829-75889b61536f"
      },
      "source": [
        "g.__next__()"
      ],
      "execution_count": 97,
      "outputs": [
        {
          "output_type": "execute_result",
          "data": {
            "text/plain": [
              "2"
            ]
          },
          "metadata": {
            "tags": []
          },
          "execution_count": 97
        }
      ]
    },
    {
      "cell_type": "code",
      "metadata": {
        "id": "ch5Par4dIlA5",
        "colab": {
          "base_uri": "https://localhost:8080/",
          "height": 169
        },
        "outputId": "9ee57cfb-9422-4af0-c452-21d619a3d510"
      },
      "source": [
        "g.__next__()"
      ],
      "execution_count": 99,
      "outputs": [
        {
          "output_type": "error",
          "ename": "StopIteration",
          "evalue": "ignored",
          "traceback": [
            "\u001b[0;31m---------------------------------------------------------------------------\u001b[0m",
            "\u001b[0;31mStopIteration\u001b[0m                             Traceback (most recent call last)",
            "\u001b[0;32m<ipython-input-99-42e506b10868>\u001b[0m in \u001b[0;36m<module>\u001b[0;34m()\u001b[0m\n\u001b[0;32m----> 1\u001b[0;31m \u001b[0mg\u001b[0m\u001b[0;34m.\u001b[0m\u001b[0m__next__\u001b[0m\u001b[0;34m(\u001b[0m\u001b[0;34m)\u001b[0m\u001b[0;34m\u001b[0m\u001b[0;34m\u001b[0m\u001b[0m\n\u001b[0m",
            "\u001b[0;31mStopIteration\u001b[0m: "
          ]
        }
      ]
    },
    {
      "cell_type": "markdown",
      "metadata": {
        "id": "WO6d1hVqI1Pb"
      },
      "source": [
        "- yield를 사용하면 값을 함수 바깥으로 전달하면서 코드 실행을 함수 바깥에 양보"
      ]
    },
    {
      "cell_type": "markdown",
      "metadata": {
        "id": "X4rQZNx3JMVT"
      },
      "source": [
        "**3. 한 줄 조건문**"
      ]
    },
    {
      "cell_type": "code",
      "metadata": {
        "id": "ZV7-pjIZI7X7"
      },
      "source": [
        "def confirm(x):\r\n",
        "  return '1입니다' if x==1 else\\\r\n",
        "          '5입니다' if x==5 else\\\r\n",
        "          '1도 5도 아닙니다'"
      ],
      "execution_count": 100,
      "outputs": []
    },
    {
      "cell_type": "code",
      "metadata": {
        "id": "aqVlFIgBJ0cH",
        "colab": {
          "base_uri": "https://localhost:8080/",
          "height": 34
        },
        "outputId": "f9a553db-5a0d-41e8-b9e9-a5665c1ae646"
      },
      "source": [
        "confirm(1)"
      ],
      "execution_count": 101,
      "outputs": [
        {
          "output_type": "execute_result",
          "data": {
            "application/vnd.google.colaboratory.intrinsic+json": {
              "type": "string"
            },
            "text/plain": [
              "'1입니다'"
            ]
          },
          "metadata": {
            "tags": []
          },
          "execution_count": 101
        }
      ]
    },
    {
      "cell_type": "code",
      "metadata": {
        "id": "8pB7VoWPJ3jo",
        "colab": {
          "base_uri": "https://localhost:8080/",
          "height": 34
        },
        "outputId": "844c0dc3-2019-4b57-95a9-32dad0049982"
      },
      "source": [
        "confirm(3)"
      ],
      "execution_count": 102,
      "outputs": [
        {
          "output_type": "execute_result",
          "data": {
            "application/vnd.google.colaboratory.intrinsic+json": {
              "type": "string"
            },
            "text/plain": [
              "'1도 5도 아닙니다'"
            ]
          },
          "metadata": {
            "tags": []
          },
          "execution_count": 102
        }
      ]
    },
    {
      "cell_type": "code",
      "metadata": {
        "id": "5I-1xgCvJ47c",
        "colab": {
          "base_uri": "https://localhost:8080/",
          "height": 34
        },
        "outputId": "2f826c5c-64b4-4c8b-e15f-033399e1b751"
      },
      "source": [
        "confirm(5)"
      ],
      "execution_count": 103,
      "outputs": [
        {
          "output_type": "execute_result",
          "data": {
            "application/vnd.google.colaboratory.intrinsic+json": {
              "type": "string"
            },
            "text/plain": [
              "'5입니다'"
            ]
          },
          "metadata": {
            "tags": []
          },
          "execution_count": 103
        }
      ]
    },
    {
      "cell_type": "markdown",
      "metadata": {
        "id": "CJg7bMneKC8E"
      },
      "source": [
        "**4. 리스트**"
      ]
    },
    {
      "cell_type": "markdown",
      "metadata": {
        "id": "hMqA6hYnKI1W"
      },
      "source": [
        "- 리스트 기본  \r\n",
        "[ ] 대괄호 안에 쉽표, 구분자로 분리"
      ]
    },
    {
      "cell_type": "code",
      "metadata": {
        "id": "JAwtJBogKMU0"
      },
      "source": [
        "A = [1,2,3,4,5]"
      ],
      "execution_count": 127,
      "outputs": []
    },
    {
      "cell_type": "markdown",
      "metadata": {
        "id": "jXseLfABKZqc"
      },
      "source": [
        "- 리스트는 추가하고 삭제 가능"
      ]
    },
    {
      "cell_type": "code",
      "metadata": {
        "id": "23ca_didKcLZ",
        "colab": {
          "base_uri": "https://localhost:8080/"
        },
        "outputId": "afac175c-244d-43c3-d257-111391f2597b"
      },
      "source": [
        "A.append(6)\r\n",
        "A"
      ],
      "execution_count": 128,
      "outputs": [
        {
          "output_type": "execute_result",
          "data": {
            "text/plain": [
              "[1, 2, 3, 4, 5, 6]"
            ]
          },
          "metadata": {
            "tags": []
          },
          "execution_count": 128
        }
      ]
    },
    {
      "cell_type": "code",
      "metadata": {
        "id": "9sCAriE-KgVe",
        "colab": {
          "base_uri": "https://localhost:8080/"
        },
        "outputId": "c6461701-9a53-4646-92e1-7ad433de9bde"
      },
      "source": [
        "del(A[0])\r\n",
        "A"
      ],
      "execution_count": 129,
      "outputs": [
        {
          "output_type": "execute_result",
          "data": {
            "text/plain": [
              "[2, 3, 4, 5, 6]"
            ]
          },
          "metadata": {
            "tags": []
          },
          "execution_count": 129
        }
      ]
    },
    {
      "cell_type": "markdown",
      "metadata": {
        "id": "ZoQYBAXoKpJG"
      },
      "source": [
        "- 리스트 슬라이싱"
      ]
    },
    {
      "cell_type": "code",
      "metadata": {
        "id": "ssraydeJKm1z",
        "colab": {
          "base_uri": "https://localhost:8080/"
        },
        "outputId": "abbfe820-8749-442e-d1be-0bfe559934c3"
      },
      "source": [
        "A = [1,2,3,4,5]\r\n",
        "A[:2]"
      ],
      "execution_count": 130,
      "outputs": [
        {
          "output_type": "execute_result",
          "data": {
            "text/plain": [
              "[1, 2]"
            ]
          },
          "metadata": {
            "tags": []
          },
          "execution_count": 130
        }
      ]
    },
    {
      "cell_type": "markdown",
      "metadata": {
        "id": "YZtNU67ZKzLf"
      },
      "source": [
        "**5. 리스트 표현식**"
      ]
    },
    {
      "cell_type": "code",
      "metadata": {
        "id": "9ztgdUrpK9Vk"
      },
      "source": [
        "A = list(range(10)) # [0,1,2,3,4,5,6,7,8,9] 할당"
      ],
      "execution_count": 131,
      "outputs": []
    },
    {
      "cell_type": "code",
      "metadata": {
        "id": "uaMx5XI2LOZC"
      },
      "source": [
        "#파이썬에서 _ 문자를 변수명으로 사용 가능함 . 쓰고 버리는 의미 없는 임시변수 표현"
      ],
      "execution_count": 132,
      "outputs": []
    },
    {
      "cell_type": "code",
      "metadata": {
        "id": "yS_TcZywLQAy",
        "colab": {
          "base_uri": "https://localhost:8080/"
        },
        "outputId": "4cd2def2-a01a-4413-85b4-d94047fe32db"
      },
      "source": [
        "B = [_ for _ in A]\r\n",
        "# B = [x for x in A]\r\n",
        "B"
      ],
      "execution_count": 133,
      "outputs": [
        {
          "output_type": "execute_result",
          "data": {
            "text/plain": [
              "[0, 1, 2, 3, 4, 5, 6, 7, 8, 9]"
            ]
          },
          "metadata": {
            "tags": []
          },
          "execution_count": 133
        }
      ]
    },
    {
      "cell_type": "code",
      "metadata": {
        "id": "xsscCpR_Lqt3",
        "colab": {
          "base_uri": "https://localhost:8080/"
        },
        "outputId": "4c17c7b0-09bc-4ade-efea-7cf8a80f4d9f"
      },
      "source": [
        "C =[x for x in A if x > 5 ] # [6,7,8,9] 할당 = 5 보다 큰 값 할당 필터링 역할\r\n",
        "C"
      ],
      "execution_count": 134,
      "outputs": [
        {
          "output_type": "execute_result",
          "data": {
            "text/plain": [
              "[6, 7, 8, 9]"
            ]
          },
          "metadata": {
            "tags": []
          },
          "execution_count": 134
        }
      ]
    },
    {
      "cell_type": "markdown",
      "metadata": {
        "id": "IOS8Bg2nMMm7"
      },
      "source": [
        "\r\n",
        "\r\n",
        "---\r\n",
        "\r\n"
      ]
    },
    {
      "cell_type": "code",
      "metadata": {
        "id": "rcRJW5mNMHEL",
        "colab": {
          "base_uri": "https://localhost:8080/"
        },
        "outputId": "df15a8c2-7162-4922-b995-46e21154ba85"
      },
      "source": [
        "D = [x for x in A if x > 5 and x % 2 == 0 ]\r\n",
        "D"
      ],
      "execution_count": 135,
      "outputs": [
        {
          "output_type": "execute_result",
          "data": {
            "text/plain": [
              "[6, 8]"
            ]
          },
          "metadata": {
            "tags": []
          },
          "execution_count": 135
        }
      ]
    },
    {
      "cell_type": "markdown",
      "metadata": {
        "id": "vq4NguC-MtdH"
      },
      "source": [
        "**6. 함수**"
      ]
    },
    {
      "cell_type": "code",
      "metadata": {
        "id": "U5_HCtF6MYxe"
      },
      "source": [
        "# F(n) = F(n-1) + F(n-2) 단, n > 2일 경우\r\n",
        "\r\n",
        "def F(n):\r\n",
        "  if n <= 2:\r\n",
        "    return 1\r\n",
        "  else:\r\n",
        "    return F(n-1) + F(n-2) # 재귀(recursive)"
      ],
      "execution_count": 136,
      "outputs": []
    },
    {
      "cell_type": "code",
      "metadata": {
        "id": "vdbxbtv9NBGa",
        "colab": {
          "base_uri": "https://localhost:8080/"
        },
        "outputId": "2ae40741-0340-47eb-d9e5-e87e3965f67f"
      },
      "source": [
        "R = [F(n) for n in range(1, 10)]\r\n",
        "print(R) #F(1)에서 F(9)까지 구하기"
      ],
      "execution_count": 137,
      "outputs": [
        {
          "output_type": "stream",
          "text": [
            "[1, 1, 2, 3, 5, 8, 13, 21, 34]\n"
          ],
          "name": "stdout"
        }
      ]
    },
    {
      "cell_type": "markdown",
      "metadata": {
        "id": "Jh2el3OANd8Z"
      },
      "source": [
        "**7. 람다(lambda) 함수**\r\n",
        "- 익명함수(Anonymous Function)\r\n",
        "- 함수 정의를 한 줄로 생략하는 방식"
      ]
    },
    {
      "cell_type": "code",
      "metadata": {
        "id": "BvKJeMBHNhI0"
      },
      "source": [
        "A =lambda x : x*2\r\n",
        "A(5) #10 값\r\n",
        "\r\n",
        "def lamb(x):\r\n",
        "  return x*2"
      ],
      "execution_count": 138,
      "outputs": []
    },
    {
      "cell_type": "code",
      "metadata": {
        "id": "0C79zrtsQcnF",
        "colab": {
          "base_uri": "https://localhost:8080/"
        },
        "outputId": "e8c4243a-3434-4c5b-a6d4-d37edf237392"
      },
      "source": [
        "F = lambda n : F(n-1) + F(n-2) if n > 2 else 1\r\n",
        "R = [F(n) for n in range(1,10)]\r\n",
        "print(R) #[1, 1, 2, 3, 5, 8, 13, 21, 34]"
      ],
      "execution_count": 139,
      "outputs": [
        {
          "output_type": "stream",
          "text": [
            "[1, 1, 2, 3, 5, 8, 13, 21, 34]\n"
          ],
          "name": "stdout"
        }
      ]
    },
    {
      "cell_type": "code",
      "metadata": {
        "id": "eYPsgVaBQ71_",
        "colab": {
          "base_uri": "https://localhost:8080/"
        },
        "outputId": "13f71ffa-74b2-48fc-997b-8ef877ff48ac"
      },
      "source": [
        "A = lambda x : x * 2\r\n",
        "B = lambda x : x * 3\r\n",
        "C = lambda x : x * 4\r\n",
        "D = lambda x : x * 5\r\n",
        "\r\n",
        "L = [A,B,C,D]\r\n",
        "\r\n",
        "for f in L:\r\n",
        "  print(f(2))"
      ],
      "execution_count": 140,
      "outputs": [
        {
          "output_type": "stream",
          "text": [
            "4\n",
            "6\n",
            "8\n",
            "10\n"
          ],
          "name": "stdout"
        }
      ]
    },
    {
      "cell_type": "code",
      "metadata": {
        "id": "4DGzMdEWRPLc",
        "colab": {
          "base_uri": "https://localhost:8080/"
        },
        "outputId": "0edd8440-e382-4ab5-d136-925cb40788b0"
      },
      "source": [
        "F = lambda n : [f(n) for f in L]\r\n",
        "F(2)"
      ],
      "execution_count": 141,
      "outputs": [
        {
          "output_type": "execute_result",
          "data": {
            "text/plain": [
              "[4, 6, 8, 10]"
            ]
          },
          "metadata": {
            "tags": []
          },
          "execution_count": 141
        }
      ]
    },
    {
      "cell_type": "markdown",
      "metadata": {
        "id": "JyeOM6MxROcc"
      },
      "source": [
        "- <스스로>48페이지 예제 해보기"
      ]
    },
    {
      "cell_type": "markdown",
      "metadata": {
        "id": "Bz_p6rPdTD2K"
      },
      "source": [
        "**8. \\***args 와 \\****kwargs 이용한 람다**\r\n",
        "- *args 표현식  \r\n",
        ": 함수의 매개변수 * 문자는 임의의 복수의 매개변수가 오는 것으로 정의\r\n",
        "- **kwargs 표현식  \r\n",
        ": 함수의 매개변수에 ** 문자는 임의의 key=value 형태의 복수의 매개변수가 오는 것으로 정의\r\n"
      ]
    },
    {
      "cell_type": "code",
      "metadata": {
        "id": "kmOsR7JMTx-_",
        "colab": {
          "base_uri": "https://localhost:8080/",
          "height": 34
        },
        "outputId": "84371361-adba-4c5e-8c33-06de8f5a6c4f"
      },
      "source": [
        "F = lambda * x : ''.join(x) # 문자열을 붙여주는 함수\r\n",
        "F('파이썬', '코딩', '쉽네') # '파이썬코딩쉽네'"
      ],
      "execution_count": 142,
      "outputs": [
        {
          "output_type": "execute_result",
          "data": {
            "application/vnd.google.colaboratory.intrinsic+json": {
              "type": "string"
            },
            "text/plain": [
              "'파이썬코딩쉽네'"
            ]
          },
          "metadata": {
            "tags": []
          },
          "execution_count": 142
        }
      ]
    },
    {
      "cell_type": "code",
      "metadata": {
        "id": "krOjP8OZUBT-",
        "colab": {
          "base_uri": "https://localhost:8080/"
        },
        "outputId": "2d5c01bf-bbae-41eb-a4d0-10b114c3f7f4"
      },
      "source": [
        "F = lambda **x : [(v,k) for k, v in x.items()] #key, value를 서로 바꿔서 dictionary 생성\r\n",
        "D = F(A='파이썬', B='코딩', C='쉽네') #dict 생성\r\n",
        "print(D)\r\n",
        "\r\n",
        "D = dict(D)\r\n",
        "print(D['파이썬'])\r\n"
      ],
      "execution_count": 143,
      "outputs": [
        {
          "output_type": "stream",
          "text": [
            "[('파이썬', 'A'), ('코딩', 'B'), ('쉽네', 'C')]\n",
            "A\n"
          ],
          "name": "stdout"
        }
      ]
    },
    {
      "cell_type": "markdown",
      "metadata": {
        "id": "SrhsIPhUXGi_"
      },
      "source": [
        "\r\n",
        "\r\n",
        "---\r\n",
        "\r\n"
      ]
    },
    {
      "cell_type": "code",
      "metadata": {
        "id": "seFUZvfQWVXB"
      },
      "source": [
        "F = lambda **x : sum(x['data']) if 'type' in x and x['type'] == 'sum' else 0"
      ],
      "execution_count": 144,
      "outputs": []
    },
    {
      "cell_type": "code",
      "metadata": {
        "id": "b4dtmR0nWgYC",
        "colab": {
          "base_uri": "https://localhost:8080/"
        },
        "outputId": "1d02c132-17a8-4ae7-9de4-d74e0e054875"
      },
      "source": [
        "F(type='sum', data=[1,2,3,4])"
      ],
      "execution_count": 145,
      "outputs": [
        {
          "output_type": "execute_result",
          "data": {
            "text/plain": [
              "10"
            ]
          },
          "metadata": {
            "tags": []
          },
          "execution_count": 145
        }
      ]
    },
    {
      "cell_type": "code",
      "metadata": {
        "id": "Otxl5b5bW8d9",
        "colab": {
          "base_uri": "https://localhost:8080/"
        },
        "outputId": "b2be2f23-0a15-4050-a0ca-aa145738c564"
      },
      "source": [
        "F(data=[1,2,3,4,5])"
      ],
      "execution_count": 146,
      "outputs": [
        {
          "output_type": "execute_result",
          "data": {
            "text/plain": [
              "0"
            ]
          },
          "metadata": {
            "tags": []
          },
          "execution_count": 146
        }
      ]
    },
    {
      "cell_type": "code",
      "metadata": {
        "id": "3kYxqB_kW-SZ",
        "colab": {
          "base_uri": "https://localhost:8080/"
        },
        "outputId": "27cc7600-ed80-4718-d207-b726b08cf068"
      },
      "source": [
        "F(type='mul', data=[1,2,3,4,5])"
      ],
      "execution_count": 147,
      "outputs": [
        {
          "output_type": "execute_result",
          "data": {
            "text/plain": [
              "0"
            ]
          },
          "metadata": {
            "tags": []
          },
          "execution_count": 147
        }
      ]
    },
    {
      "cell_type": "markdown",
      "metadata": {
        "id": "x8-FAeaaXI-V"
      },
      "source": [
        "**9. 파일 입출력**"
      ]
    },
    {
      "cell_type": "markdown",
      "metadata": {
        "id": "OLHXVRBwXV5m"
      },
      "source": [
        "- student 파일 읽기 예제"
      ]
    },
    {
      "cell_type": "code",
      "metadata": {
        "id": "5TJNq7EEX1gg",
        "colab": {
          "base_uri": "https://localhost:8080/"
        },
        "outputId": "c8af1102-3c33-414f-c4d6-3b1ac6dd9fa2"
      },
      "source": [
        "with open('student.txt', 'r') as fr:\r\n",
        "  print(fr.readline())"
      ],
      "execution_count": 149,
      "outputs": [
        {
          "output_type": "stream",
          "text": [
            "태서연;54;72;60;78\n",
            "\n"
          ],
          "name": "stdout"
        }
      ]
    },
    {
      "cell_type": "markdown",
      "metadata": {
        "id": "KQEdEn4DY4sL"
      },
      "source": [
        "- 이름(첫 번째)를 제외한 **숫자 문자열**들만 추출"
      ]
    },
    {
      "cell_type": "code",
      "metadata": {
        "id": "NhsdIykmYGRl",
        "colab": {
          "base_uri": "https://localhost:8080/"
        },
        "outputId": "7f0b35a7-f380-4f57-fb59-7ef517bc6fc0"
      },
      "source": [
        "F = lambda x : x.split(';')[1:]\r\n",
        "F('태서연;54;72;60;78')"
      ],
      "execution_count": 150,
      "outputs": [
        {
          "output_type": "execute_result",
          "data": {
            "text/plain": [
              "['54', '72', '60', '78']"
            ]
          },
          "metadata": {
            "tags": []
          },
          "execution_count": 150
        }
      ]
    },
    {
      "cell_type": "code",
      "metadata": {
        "id": "8naBCARtYwj0",
        "colab": {
          "base_uri": "https://localhost:8080/"
        },
        "outputId": "7abe47dd-0f99-4b70-b0c7-2f5491163cbe"
      },
      "source": [
        "F = lambda x : x.split(';')\r\n",
        "F('태서연;54;72;60;78')"
      ],
      "execution_count": 151,
      "outputs": [
        {
          "output_type": "execute_result",
          "data": {
            "text/plain": [
              "['태서연', '54', '72', '60', '78']"
            ]
          },
          "metadata": {
            "tags": []
          },
          "execution_count": 151
        }
      ]
    },
    {
      "cell_type": "markdown",
      "metadata": {
        "id": "IWsNEPtXZB4v"
      },
      "source": [
        "- 입력 문자열을 숫자로만 추출하기(list comprehension)"
      ]
    },
    {
      "cell_type": "code",
      "metadata": {
        "id": "2LZvQBNDZFV2",
        "colab": {
          "base_uri": "https://localhost:8080/"
        },
        "outputId": "558209e8-0a9f-450c-ddb4-c0960efd55c4"
      },
      "source": [
        "F = lambda x : [int(i) for i in x.split(';')[1:]]\r\n",
        "F('태서연;54;72;60;78')"
      ],
      "execution_count": 152,
      "outputs": [
        {
          "output_type": "execute_result",
          "data": {
            "text/plain": [
              "[54, 72, 60, 78]"
            ]
          },
          "metadata": {
            "tags": []
          },
          "execution_count": 152
        }
      ]
    },
    {
      "cell_type": "markdown",
      "metadata": {
        "id": "xDAGircnZzzK"
      },
      "source": [
        "- 입력 문자열을 합계"
      ]
    },
    {
      "cell_type": "code",
      "metadata": {
        "id": "emVNFioGZRwr",
        "colab": {
          "base_uri": "https://localhost:8080/"
        },
        "outputId": "286060a6-b5e3-4197-a1b9-75fe33c9bf6f"
      },
      "source": [
        "F = lambda x : sum([int(i) for i in x.split(';')[1:]])\r\n",
        "F('태서연;54;72;60;78')"
      ],
      "execution_count": 153,
      "outputs": [
        {
          "output_type": "execute_result",
          "data": {
            "text/plain": [
              "264"
            ]
          },
          "metadata": {
            "tags": []
          },
          "execution_count": 153
        }
      ]
    },
    {
      "cell_type": "markdown",
      "metadata": {
        "id": "lHWBaFnLZ-IY"
      },
      "source": [
        "- 이름, 과목별 점수 합계 리턴"
      ]
    },
    {
      "cell_type": "code",
      "metadata": {
        "id": "U-dfGaM8aAaq",
        "colab": {
          "base_uri": "https://localhost:8080/"
        },
        "outputId": "ef29aa75-e3bd-417d-ac1d-61f6d3184cc3"
      },
      "source": [
        "F = lambda x : (x.split(';')[0], sum([int(i) for i in x.split(';')[1:]]))\r\n",
        "name, total = F('태서연;54;72;60;78')\r\n",
        "print(name, total)"
      ],
      "execution_count": 154,
      "outputs": [
        {
          "output_type": "stream",
          "text": [
            "태서연 264\n"
          ],
          "name": "stdout"
        }
      ]
    },
    {
      "cell_type": "markdown",
      "metadata": {
        "id": "pXM_edmyaS7z"
      },
      "source": [
        "- 입력 문자열을 미리 split 하여서 리스트로 넘긴다고 가정"
      ]
    },
    {
      "cell_type": "code",
      "metadata": {
        "id": "TzXf_5Kya4bW",
        "colab": {
          "base_uri": "https://localhost:8080/"
        },
        "outputId": "00ed5591-0d7e-45cd-fed1-43fddc93deed"
      },
      "source": [
        "F = lambda L : [int(x) for x in L[1:]]\r\n",
        "F('태서연;54;72;60;78'.split(';'))"
      ],
      "execution_count": 155,
      "outputs": [
        {
          "output_type": "execute_result",
          "data": {
            "text/plain": [
              "[54, 72, 60, 78]"
            ]
          },
          "metadata": {
            "tags": []
          },
          "execution_count": 155
        }
      ]
    },
    {
      "cell_type": "markdown",
      "metadata": {
        "id": "y0PsavSPaYMg"
      },
      "source": [
        "- 이름, 점수 합계를 리턴하는 방법"
      ]
    },
    {
      "cell_type": "code",
      "metadata": {
        "id": "5JrhJUubbHx7",
        "colab": {
          "base_uri": "https://localhost:8080/"
        },
        "outputId": "c20519f8-fade-4bf0-8a73-31e12e00df27"
      },
      "source": [
        "F = lambda L : (L[0], sum([int(x) for x in L[1:]]))\r\n",
        "\r\n",
        "name, total = F('태서연;54;72;60;78'.split(';'))\r\n",
        "\r\n",
        "print(name, total)"
      ],
      "execution_count": 156,
      "outputs": [
        {
          "output_type": "stream",
          "text": [
            "태서연 264\n"
          ],
          "name": "stdout"
        }
      ]
    },
    {
      "cell_type": "markdown",
      "metadata": {
        "id": "uPZ8H3oHadjU"
      },
      "source": [
        "- 타입별(이름, 합계), (이름, 평균)을 나타내는 함수"
      ]
    },
    {
      "cell_type": "code",
      "metadata": {
        "id": "kIvesDZ6bXZR",
        "colab": {
          "base_uri": "https://localhost:8080/"
        },
        "outputId": "5cddc0f3-1128-4906-dae2-6278a31cfd3e"
      },
      "source": [
        "F = lambda L, T : (L[0], sum([int(x) for x in L[1:]])) if T==\"sum\" else\\\r\n",
        "                  (L[0], sum([int(x) for x in L[1:]])/len(L[1:])) if T==\"avg\" else\\\r\n",
        "                  (L[0], None)\r\n",
        "name, value = F('태서연;54;72;60;78'.split(';'), \"sum\")\r\n",
        "print(name, value)"
      ],
      "execution_count": 157,
      "outputs": [
        {
          "output_type": "stream",
          "text": [
            "태서연 264\n"
          ],
          "name": "stdout"
        }
      ]
    },
    {
      "cell_type": "code",
      "metadata": {
        "id": "UaUISnNhcCwg",
        "colab": {
          "base_uri": "https://localhost:8080/"
        },
        "outputId": "0aa7f1a1-60e9-422e-b15c-94582ce77d2d"
      },
      "source": [
        "name, value = F('태서연;54;72;60;78'.split(';'), \"avg\")\r\n",
        "print(name, value)"
      ],
      "execution_count": 158,
      "outputs": [
        {
          "output_type": "stream",
          "text": [
            "태서연 66.0\n"
          ],
          "name": "stdout"
        }
      ]
    },
    {
      "cell_type": "code",
      "metadata": {
        "id": "AAtwXd57cIzV",
        "colab": {
          "base_uri": "https://localhost:8080/"
        },
        "outputId": "2f638d5e-4f77-474c-fa97-bd2a358aaf9b"
      },
      "source": [
        "name, value = F('태서연;54;72;60;78'.split(';'), \"mul\")\r\n",
        "print(name, value)"
      ],
      "execution_count": 159,
      "outputs": [
        {
          "output_type": "stream",
          "text": [
            "태서연 None\n"
          ],
          "name": "stdout"
        }
      ]
    },
    {
      "cell_type": "markdown",
      "metadata": {
        "id": "bTALua5hcQ7G"
      },
      "source": [
        "- 파일을 읽어서 이름;합계;평균을 내는 student_result 파일로 저장"
      ]
    },
    {
      "cell_type": "code",
      "metadata": {
        "id": "f0snxEL0cWAV"
      },
      "source": [
        "with open('student.txt', 'r') as fr, open('student_result.txt', 'w') as fw:\r\n",
        "  for line in fr:\r\n",
        "    name, total_sum = F(line.split(';'), 'sum')\r\n",
        "    name, total_avg = F(line.split(';'), 'avg')\r\n",
        "\r\n",
        "    #문자열 앞에 f를 붙이면 문자열 내부에 {}를 이용하여 변수를 바인딩 할 수 있음.  f-string\r\n",
        "    result = f\"{name};{total_sum};{total_avg}\\n\"\r\n",
        "    fw.write(result)"
      ],
      "execution_count": 165,
      "outputs": []
    },
    {
      "cell_type": "markdown",
      "metadata": {
        "id": "Krp1HvKgdKj0"
      },
      "source": [
        "- student_result 파일에 저장된 내용 확인"
      ]
    },
    {
      "cell_type": "code",
      "metadata": {
        "id": "K1jopXfPc8uu",
        "colab": {
          "base_uri": "https://localhost:8080/"
        },
        "outputId": "a09e423b-9e4c-4986-cead-396b0d49f83d"
      },
      "source": [
        "with open('student_result.txt') as fr:\r\n",
        "  print(fr.readline())\r\n",
        "  print(fr.readline())\r\n",
        "  print(fr.readline())"
      ],
      "execution_count": 166,
      "outputs": [
        {
          "output_type": "stream",
          "text": [
            "태서연;264;66.0\n",
            "\n",
            "박서윤;237;59.25\n",
            "\n",
            "정지우;244;61.0\n",
            "\n"
          ],
          "name": "stdout"
        }
      ]
    },
    {
      "cell_type": "markdown",
      "metadata": {
        "id": "qhaeKDXidcgA"
      },
      "source": [
        "**10. 데이터를 json파일/텍스트로 변환**"
      ]
    },
    {
      "cell_type": "code",
      "metadata": {
        "id": "qiN_zYzrdscw",
        "colab": {
          "base_uri": "https://localhost:8080/"
        },
        "outputId": "11decab9-9f28-4e0b-d530-a98532a71bf1"
      },
      "source": [
        "import json\r\n",
        "person_dict = {}\r\n",
        "\r\n",
        "with open('student.txt', 'r') as fr:\r\n",
        "  for line in fr:\r\n",
        "    data = line.strip().split(';') #불필요 공백 제거 후 문자로 문자열 분리\r\n",
        "    name = data[0]\r\n",
        "\r\n",
        "    # kor, eng, mat, sci = int(data[1]), int(data[2]), int(data[3]), int(data[4])\r\n",
        "    kor, eng, mat, sci = (int(x) for x in data[1:])\r\n",
        "    person_dict[name] = {'국어':kor, '영어':eng, '수학':mat, '과학':sci}\r\n",
        "\r\n",
        "with open('student_json', 'w') as fw:\r\n",
        "  json.dump(person_dict, fw, ensure_ascii=False, indent=4) #딕셔너리를 JSON으로 변환하여 파일로 저장\r\n",
        "\r\n",
        "json_data = json.dumps(person_dict)\r\n",
        "print(json_data)\r\n",
        "\r\n"
      ],
      "execution_count": 168,
      "outputs": [
        {
          "output_type": "stream",
          "text": [
            "{\"\\ud0dc\\uc11c\\uc5f0\": {\"\\uad6d\\uc5b4\": 54, \"\\uc601\\uc5b4\": 72, \"\\uc218\\ud559\": 60, \"\\uacfc\\ud559\": 78}, \"\\ubc15\\uc11c\\uc724\": {\"\\uad6d\\uc5b4\": 62, \"\\uc601\\uc5b4\": 78, \"\\uc218\\ud559\": 16, \"\\uacfc\\ud559\": 81}, \"\\uc815\\uc9c0\\uc6b0\": {\"\\uad6d\\uc5b4\": 66, \"\\uc601\\uc5b4\": 72, \"\\uc218\\ud559\": 32, \"\\uacfc\\ud559\": 74}, \"\\uc815\\uc11c\\ud604\": {\"\\uad6d\\uc5b4\": 56, \"\\uc601\\uc5b4\": 80, \"\\uc218\\ud559\": 67, \"\\uacfc\\ud559\": 85}, \"\\ubc15\\ubbfc\\uc11c\": {\"\\uad6d\\uc5b4\": 64, \"\\uc601\\uc5b4\": 92, \"\\uc218\\ud559\": 11, \"\\uacfc\\ud559\": 66}, \"\\uc774\\ud558\\uc740\": {\"\\uad6d\\uc5b4\": 85, \"\\uc601\\uc5b4\": 35, \"\\uc218\\ud559\": 71, \"\\uacfc\\ud559\": 90}, \"\\uc815\\ud558\\uc724\": {\"\\uad6d\\uc5b4\": 51, \"\\uc601\\uc5b4\": 26, \"\\uc218\\ud559\": 36, \"\\uacfc\\ud559\": 63}, \"\\ubc15\\uc724\\uc11c\": {\"\\uad6d\\uc5b4\": 77, \"\\uc601\\uc5b4\": 84, \"\\uc218\\ud559\": 32, \"\\uacfc\\ud559\": 93}, \"\\uc815\\uc9c0\\ubbfc\": {\"\\uad6d\\uc5b4\": 73, \"\\uc601\\uc5b4\": 28, \"\\uc218\\ud559\": 66, \"\\uacfc\\ud559\": 70}, \"\\ubc15\\uc9c0\\uc720\": {\"\\uad6d\\uc5b4\": 51, \"\\uc601\\uc5b4\": 34, \"\\uc218\\ud559\": 55, \"\\uacfc\\ud559\": 63}, \"\\uae40\\ucc44\\uc6d0\": {\"\\uad6d\\uc5b4\": 77, \"\\uc601\\uc5b4\": 72, \"\\uc218\\ud559\": 29, \"\\uacfc\\ud559\": 75}, \"\\uae40\\uc9c0\\uc724\": {\"\\uad6d\\uc5b4\": 78, \"\\uc601\\uc5b4\": 27, \"\\uc218\\ud559\": 41, \"\\uacfc\\ud559\": 67}, \"\\ubc15\\uc740\\uc11c\": {\"\\uad6d\\uc5b4\": 61, \"\\uc601\\uc5b4\": 52, \"\\uc218\\ud559\": 38, \"\\uacfc\\ud559\": 65}, \"\\uae40\\uc218\\uc544\": {\"\\uad6d\\uc5b4\": 51, \"\\uc601\\uc5b4\": 32, \"\\uc218\\ud559\": 26, \"\\uacfc\\ud559\": 91}, \"\\uc815\\ub2e4\\uc740\": {\"\\uad6d\\uc5b4\": 59, \"\\uc601\\uc5b4\": 50, \"\\uc218\\ud559\": 63, \"\\uacfc\\ud559\": 71}, \"\\ubc15\\uc608\\uc740\": {\"\\uad6d\\uc5b4\": 73, \"\\uc601\\uc5b4\": 29, \"\\uc218\\ud559\": 78, \"\\uacfc\\ud559\": 99}, \"\\ud0dc\\uc218\\ube48\": {\"\\uad6d\\uc5b4\": 51, \"\\uc601\\uc5b4\": 34, \"\\uc218\\ud559\": 44, \"\\uacfc\\ud559\": 76}, \"\\uc774\\uc9c0\\uc544\": {\"\\uad6d\\uc5b4\": 53, \"\\uc601\\uc5b4\": 32, \"\\uc218\\ud559\": 56, \"\\uacfc\\ud559\": 70}, \"\\uc815\\uc18c\\uc728\": {\"\\uad6d\\uc5b4\": 55, \"\\uc601\\uc5b4\": 54, \"\\uc218\\ud559\": 28, \"\\uacfc\\ud559\": 94}, \"\\uc815\\uc608\\uc6d0\": {\"\\uad6d\\uc5b4\": 65, \"\\uc601\\uc5b4\": 74, \"\\uc218\\ud559\": 75, \"\\uacfc\\ud559\": 99}, \"\\uae40\\uc608\\ub9b0\": {\"\\uad6d\\uc5b4\": 94, \"\\uc601\\uc5b4\": 93, \"\\uc218\\ud559\": 72, \"\\uacfc\\ud559\": 81}, \"\\uc774\\uc9c0\\uc6d0\": {\"\\uad6d\\uc5b4\": 61, \"\\uc601\\uc5b4\": 41, \"\\uc218\\ud559\": 32, \"\\uacfc\\ud559\": 100}, \"\\ud0dc\\uc18c\\uc724\": {\"\\uad6d\\uc5b4\": 87, \"\\uc601\\uc5b4\": 23, \"\\uc218\\ud559\": 86, \"\\uacfc\\ud559\": 97}, \"\\uc774\\uc9c0\\uc548\": {\"\\uad6d\\uc5b4\": 53, \"\\uc601\\uc5b4\": 38, \"\\uc218\\ud559\": 57, \"\\uacfc\\ud559\": 66}, \"\\ud0dc\\uc720\\uc9c4\": {\"\\uad6d\\uc5b4\": 81, \"\\uc601\\uc5b4\": 68, \"\\uc218\\ud559\": 83, \"\\uacfc\\ud559\": 66}, \"\\ubc15\\uc2dc\\uc740\": {\"\\uad6d\\uc5b4\": 84, \"\\uc601\\uc5b4\": 94, \"\\uc218\\ud559\": 56, \"\\uacfc\\ud559\": 63}, \"\\uc815\\ud558\\ub9b0\": {\"\\uad6d\\uc5b4\": 86, \"\\uc601\\uc5b4\": 29, \"\\uc218\\ud559\": 32, \"\\uacfc\\ud559\": 78}, \"\\uc815\\ucc44\\uc740\": {\"\\uad6d\\uc5b4\": 93, \"\\uc601\\uc5b4\": 47, \"\\uc218\\ud559\": 44, \"\\uacfc\\ud559\": 93}, \"\\uc815\\uac00\\uc740\": {\"\\uad6d\\uc5b4\": 76, \"\\uc601\\uc5b4\": 34, \"\\uc218\\ud559\": 12, \"\\uacfc\\ud559\": 60}, \"\\uae40\\uc724\\uc544\": {\"\\uad6d\\uc5b4\": 79, \"\\uc601\\uc5b4\": 31, \"\\uc218\\ud559\": 75, \"\\uacfc\\ud559\": 79}, \"\\uc815\\uc11c\\uc601\": {\"\\uad6d\\uc5b4\": 54, \"\\uc601\\uc5b4\": 52, \"\\uc218\\ud559\": 32, \"\\uacfc\\ud559\": 62}, \"\\uc815\\uc720\\ub098\": {\"\\uad6d\\uc5b4\": 91, \"\\uc601\\uc5b4\": 25, \"\\uc218\\ud559\": 42, \"\\uacfc\\ud559\": 77}, \"\\uc815\\ubbfc\\uc9c0\": {\"\\uad6d\\uc5b4\": 74, \"\\uc601\\uc5b4\": 55, \"\\uc218\\ud559\": 23, \"\\uacfc\\ud559\": 74}, \"\\uae40\\uc608\\uc9c4\": {\"\\uad6d\\uc5b4\": 86, \"\\uc601\\uc5b4\": 27, \"\\uc218\\ud559\": 56, \"\\uacfc\\ud559\": 79}, \"\\ubc15\\uc218\\ubbfc\": {\"\\uad6d\\uc5b4\": 58, \"\\uc601\\uc5b4\": 59, \"\\uc218\\ud559\": 71, \"\\uacfc\\ud559\": 64}, \"\\uc774\\uc218\\uc5f0\": {\"\\uad6d\\uc5b4\": 98, \"\\uc601\\uc5b4\": 81, \"\\uc218\\ud559\": 31, \"\\uacfc\\ud559\": 94}, \"\\ud0dc\\uc5f0\\uc6b0\": {\"\\uad6d\\uc5b4\": 67, \"\\uc601\\uc5b4\": 76, \"\\uc218\\ud559\": 41, \"\\uacfc\\ud559\": 64}, \"\\ud0dc\\uc11c\\uc544\": {\"\\uad6d\\uc5b4\": 73, \"\\uc601\\uc5b4\": 27, \"\\uc218\\ud559\": 52, \"\\uacfc\\ud559\": 100}, \"\\ubc15\\uc608\\ub098\": {\"\\uad6d\\uc5b4\": 61, \"\\uc601\\uc5b4\": 67, \"\\uc218\\ud559\": 81, \"\\uacfc\\ud559\": 63}, \"\\ud0dc\\uc608\\uc11c\": {\"\\uad6d\\uc5b4\": 79, \"\\uc601\\uc5b4\": 68, \"\\uc218\\ud559\": 51, \"\\uacfc\\ud559\": 80}, \"\\uc815\\uc8fc\\uc544\": {\"\\uad6d\\uc5b4\": 83, \"\\uc601\\uc5b4\": 95, \"\\uc218\\ud559\": 44, \"\\uacfc\\ud559\": 93}, \"\\uae40\\uc2dc\\uc5f0\": {\"\\uad6d\\uc5b4\": 92, \"\\uc601\\uc5b4\": 95, \"\\uc218\\ud559\": 37, \"\\uacfc\\ud559\": 85}, \"\\ud0dc\\uc5f0\\uc11c\": {\"\\uad6d\\uc5b4\": 80, \"\\uc601\\uc5b4\": 35, \"\\uc218\\ud559\": 60, \"\\uacfc\\ud559\": 83}, \"\\ud0dc\\ud558\\uc728\": {\"\\uad6d\\uc5b4\": 92, \"\\uc601\\uc5b4\": 98, \"\\uc218\\ud559\": 17, \"\\uacfc\\ud559\": 82}, \"\\ubc15\\ub2e4\\uc778\": {\"\\uad6d\\uc5b4\": 66, \"\\uc601\\uc5b4\": 54, \"\\uc218\\ud559\": 25, \"\\uacfc\\ud559\": 100}, \"\\ubc15\\ub2e4\\uc5f0\": {\"\\uad6d\\uc5b4\": 70, \"\\uc601\\uc5b4\": 73, \"\\uc218\\ud559\": 32, \"\\uacfc\\ud559\": 70}, \"\\uae40\\ud604\\uc11c\": {\"\\uad6d\\uc5b4\": 72, \"\\uc601\\uc5b4\": 68, \"\\uc218\\ud559\": 25, \"\\uacfc\\ud559\": 75}, \"\\uae40\\uc544\\uc778\": {\"\\uad6d\\uc5b4\": 95, \"\\uc601\\uc5b4\": 52, \"\\uc218\\ud559\": 61, \"\\uacfc\\ud559\": 60}, \"\\ubc15\\uc11c\\uc740\": {\"\\uad6d\\uc5b4\": 89, \"\\uc601\\uc5b4\": 83, \"\\uc218\\ud559\": 38, \"\\uacfc\\ud559\": 88}, \"\\ud0dc\\uc2dc\\uc544\": {\"\\uad6d\\uc5b4\": 51, \"\\uc601\\uc5b4\": 91, \"\\uc218\\ud559\": 17, \"\\uacfc\\ud559\": 88}, \"\\uc815\\uc720\\uc8fc\": {\"\\uad6d\\uc5b4\": 87, \"\\uc601\\uc5b4\": 72, \"\\uc218\\ud559\": 45, \"\\uacfc\\ud559\": 62}, \"\\uc774\\uc11c\\uc9c4\": {\"\\uad6d\\uc5b4\": 61, \"\\uc601\\uc5b4\": 73, \"\\uc218\\ud559\": 35, \"\\uacfc\\ud559\": 69}, \"\\uc815\\uc720\\ube48\": {\"\\uad6d\\uc5b4\": 77, \"\\uc601\\uc5b4\": 56, \"\\uc218\\ud559\": 82, \"\\uacfc\\ud559\": 84}, \"\\ubc15\\ud558\\uc5f0\": {\"\\uad6d\\uc5b4\": 82, \"\\uc601\\uc5b4\": 25, \"\\uc218\\ud559\": 28, \"\\uacfc\\ud559\": 62}, \"\\uc815\\ucc44\\uc724\": {\"\\uad6d\\uc5b4\": 54, \"\\uc601\\uc5b4\": 32, \"\\uc218\\ud559\": 48, \"\\uacfc\\ud559\": 92}, \"\\uae40\\uc11c\\uc6b0\": {\"\\uad6d\\uc5b4\": 88, \"\\uc601\\uc5b4\": 45, \"\\uc218\\ud559\": 47, \"\\uacfc\\ud559\": 83}, \"\\uc774\\uc11c\\uc728\": {\"\\uad6d\\uc5b4\": 81, \"\\uc601\\uc5b4\": 52, \"\\uc218\\ud559\": 95, \"\\uacfc\\ud559\": 81}, \"\\uc815\\uc218\\ud604\": {\"\\uad6d\\uc5b4\": 51, \"\\uc601\\uc5b4\": 41, \"\\uc218\\ud559\": 71, \"\\uacfc\\ud559\": 95}, \"\\uc774\\uc9c0\\uc728\": {\"\\uad6d\\uc5b4\": 87, \"\\uc601\\uc5b4\": 72, \"\\uc218\\ud559\": 49, \"\\uacfc\\ud559\": 77}, \"\\ubc15\\uc544\\ub9b0\": {\"\\uad6d\\uc5b4\": 58, \"\\uc601\\uc5b4\": 36, \"\\uc218\\ud559\": 55, \"\\uacfc\\ud559\": 92}, \"\\uc815\\ub098\\uc724\": {\"\\uad6d\\uc5b4\": 71, \"\\uc601\\uc5b4\": 94, \"\\uc218\\ud559\": 81, \"\\uacfc\\ud559\": 70}, \"\\ubc15\\uc608\\uc9c0\": {\"\\uad6d\\uc5b4\": 57, \"\\uc601\\uc5b4\": 42, \"\\uc218\\ud559\": 46, \"\\uacfc\\ud559\": 95}, \"\\ubc15\\ub2e4\\ud604\": {\"\\uad6d\\uc5b4\": 66, \"\\uc601\\uc5b4\": 99, \"\\uc218\\ud559\": 31, \"\\uacfc\\ud559\": 72}, \"\\uc774\\ubbfc\\uc8fc\": {\"\\uad6d\\uc5b4\": 76, \"\\uc601\\uc5b4\": 83, \"\\uc218\\ud559\": 24, \"\\uacfc\\ud559\": 70}, \"\\ud0dc\\uc9c0\\uc740\": {\"\\uad6d\\uc5b4\": 98, \"\\uc601\\uc5b4\": 68, \"\\uc218\\ud559\": 25, \"\\uacfc\\ud559\": 92}, \"\\uc774\\ub098\\uc5f0\": {\"\\uad6d\\uc5b4\": 77, \"\\uc601\\uc5b4\": 95, \"\\uc218\\ud559\": 65, \"\\uacfc\\ud559\": 99}, \"\\ubc15\\uc18c\\uc740\": {\"\\uad6d\\uc5b4\": 79, \"\\uc601\\uc5b4\": 73, \"\\uc218\\ud559\": 38, \"\\uacfc\\ud559\": 86}, \"\\uc774\\uc2dc\\ud604\": {\"\\uad6d\\uc5b4\": 81, \"\\uc601\\uc5b4\": 96, \"\\uc218\\ud559\": 48, \"\\uacfc\\ud559\": 72}, \"\\uc774\\uc724\\uc9c0\": {\"\\uad6d\\uc5b4\": 100, \"\\uc601\\uc5b4\": 80, \"\\uc218\\ud559\": 25, \"\\uacfc\\ud559\": 77}, \"\\ubc15\\uc0ac\\ub791\": {\"\\uad6d\\uc5b4\": 66, \"\\uc601\\uc5b4\": 71, \"\\uc218\\ud559\": 72, \"\\uacfc\\ud559\": 68}, \"\\uae40\\uc608\\ube48\": {\"\\uad6d\\uc5b4\": 79, \"\\uc601\\uc5b4\": 79, \"\\uc218\\ud559\": 27, \"\\uacfc\\ud559\": 98}, \"\\ubc15\\uc9c0\\ud604\": {\"\\uad6d\\uc5b4\": 65, \"\\uc601\\uc5b4\": 23, \"\\uc218\\ud559\": 81, \"\\uacfc\\ud559\": 89}, \"\\ubc15\\uc18c\\uc5f0\": {\"\\uad6d\\uc5b4\": 56, \"\\uc601\\uc5b4\": 57, \"\\uc218\\ud559\": 35, \"\\uacfc\\ud559\": 66}, \"\\uc815\\ub098\\uc740\": {\"\\uad6d\\uc5b4\": 99, \"\\uc601\\uc5b4\": 45, \"\\uc218\\ud559\": 41, \"\\uacfc\\ud559\": 90}, \"\\ud0dc\\uc11c\\ud558\": {\"\\uad6d\\uc5b4\": 57, \"\\uc601\\uc5b4\": 57, \"\\uc218\\ud559\": 80, \"\\uacfc\\ud559\": 78}, \"\\uc774\\ud61c\\uc6d0\": {\"\\uad6d\\uc5b4\": 73, \"\\uc601\\uc5b4\": 91, \"\\uc218\\ud559\": 22, \"\\uacfc\\ud559\": 90}, \"\\uc774\\uc9c0\\uc218\": {\"\\uad6d\\uc5b4\": 60, \"\\uc601\\uc5b4\": 24, \"\\uc218\\ud559\": 20, \"\\uacfc\\ud559\": 62}, \"\\ud0dc\\uc740\\ucc44\": {\"\\uad6d\\uc5b4\": 86, \"\\uc601\\uc5b4\": 23, \"\\uc218\\ud559\": 95, \"\\uacfc\\ud559\": 60}, \"\\uc815\\uc544\\uc724\": {\"\\uad6d\\uc5b4\": 62, \"\\uc601\\uc5b4\": 97, \"\\uc218\\ud559\": 31, \"\\uacfc\\ud559\": 83}, \"\\ubc15\\uc8fc\\ud558\": {\"\\uad6d\\uc5b4\": 70, \"\\uc601\\uc5b4\": 21, \"\\uc218\\ud559\": 22, \"\\uacfc\\ud559\": 71}, \"\\uc774\\uc2b9\\uc544\": {\"\\uad6d\\uc5b4\": 61, \"\\uc601\\uc5b4\": 80, \"\\uc218\\ud559\": 45, \"\\uacfc\\ud559\": 85}, \"\\uc815\\ucc44\\uc544\": {\"\\uad6d\\uc5b4\": 71, \"\\uc601\\uc5b4\": 53, \"\\uc218\\ud559\": 82, \"\\uacfc\\ud559\": 68}, \"\\uc815\\uc18c\\ubbfc\": {\"\\uad6d\\uc5b4\": 63, \"\\uc601\\uc5b4\": 72, \"\\uc218\\ud559\": 33, \"\\uacfc\\ud559\": 97}, \"\\uc774\\uc11c\\ud76c\": {\"\\uad6d\\uc5b4\": 87, \"\\uc601\\uc5b4\": 53, \"\\uc218\\ud559\": 81, \"\\uacfc\\ud559\": 80}, \"\\ud0dc\\ub098\\ud604\": {\"\\uad6d\\uc5b4\": 88, \"\\uc601\\uc5b4\": 38, \"\\uc218\\ud559\": 46, \"\\uacfc\\ud559\": 77}, \"\\uae40\\ub2e4\\uc724\": {\"\\uad6d\\uc5b4\": 77, \"\\uc601\\uc5b4\": 52, \"\\uc218\\ud559\": 50, \"\\uacfc\\ud559\": 92}, \"\\uc774\\ubbfc\\uc544\": {\"\\uad6d\\uc5b4\": 98, \"\\uc601\\uc5b4\": 71, \"\\uc218\\ud559\": 43, \"\\uacfc\\ud559\": 68}, \"\\uc815\\ucc44\\ub9b0\": {\"\\uad6d\\uc5b4\": 52, \"\\uc601\\uc5b4\": 53, \"\\uc218\\ud559\": 36, \"\\uacfc\\ud559\": 90}, \"\\uc774\\ud558\\uc601\": {\"\\uad6d\\uc5b4\": 94, \"\\uc601\\uc5b4\": 47, \"\\uc218\\ud559\": 84, \"\\uacfc\\ud559\": 78}, \"\\uc774\\uc138\\uc740\": {\"\\uad6d\\uc5b4\": 62, \"\\uc601\\uc5b4\": 86, \"\\uc218\\ud559\": 42, \"\\uacfc\\ud559\": 90}, \"\\ud0dc\\ub3c4\\uc5f0\": {\"\\uad6d\\uc5b4\": 89, \"\\uc601\\uc5b4\": 56, \"\\uc218\\ud559\": 60, \"\\uacfc\\ud559\": 99}, \"\\uc774\\uaddc\\ub9ac\": {\"\\uad6d\\uc5b4\": 82, \"\\uc601\\uc5b4\": 87, \"\\uc218\\ud559\": 75, \"\\uacfc\\ud559\": 92}, \"\\uc815\\uc544\\uc601\": {\"\\uad6d\\uc5b4\": 86, \"\\uc601\\uc5b4\": 79, \"\\uc218\\ud559\": 34, \"\\uacfc\\ud559\": 81}, \"\\uc815\\uc138\\uc544\": {\"\\uad6d\\uc5b4\": 92, \"\\uc601\\uc5b4\": 99, \"\\uc218\\ud559\": 92, \"\\uacfc\\ud559\": 92}, \"\\uae40\\uc9c0\\uc5f0\": {\"\\uad6d\\uc5b4\": 69, \"\\uc601\\uc5b4\": 61, \"\\uc218\\ud559\": 15, \"\\uacfc\\ud559\": 76}, \"\\ud0dc\\uc608\\ub9bc\": {\"\\uad6d\\uc5b4\": 96, \"\\uc601\\uc5b4\": 24, \"\\uc218\\ud559\": 23, \"\\uacfc\\ud559\": 85}, \"\\uc815\\uac00\\uc724\": {\"\\uad6d\\uc5b4\": 69, \"\\uc601\\uc5b4\": 36, \"\\uc218\\ud559\": 26, \"\\uacfc\\ud559\": 63}, \"\\uc815\\ub2e4\\uc628\": {\"\\uad6d\\uc5b4\": 95, \"\\uc601\\uc5b4\": 73, \"\\uc218\\ud559\": 19, \"\\uacfc\\ud559\": 68}, \"\\uc774\\ud0dc\\ud76c\": {\"\\uad6d\\uc5b4\": 86, \"\\uc601\\uc5b4\": 54, \"\\uc218\\ud559\": 94, \"\\uacfc\\ud559\": 62}, \"\\uc774\\ubbfc\\ucc44\": {\"\\uad6d\\uc5b4\": 85, \"\\uc601\\uc5b4\": 97, \"\\uc218\\ud559\": 38, \"\\uacfc\\ud559\": 69}}\n"
          ],
          "name": "stdout"
        }
      ]
    },
    {
      "cell_type": "markdown",
      "metadata": {
        "id": "HcaBAZfofw04"
      },
      "source": [
        "**11. 파이썬 오브젝트를 json 텍스트로 변환**"
      ]
    },
    {
      "cell_type": "code",
      "metadata": {
        "id": "m32C18N9fbbX",
        "colab": {
          "base_uri": "https://localhost:8080/"
        },
        "outputId": "ce640c13-a09e-4d9e-96c9-72aae6cca1f7"
      },
      "source": [
        "import json\r\n",
        "person_dict = {}\r\n",
        "\r\n",
        "with open('student.txt', 'r') as fr:\r\n",
        "  for line in fr:\r\n",
        "    data = line.strip().split(';') #불필요 공백 제거 후 문자로 문자열 분리\r\n",
        "    name = data[0] #이름\r\n",
        "\r\n",
        "    # kor, eng, mat, sci = int(data[1]), int(data[2]), int(data[3]), int(data[4])\r\n",
        "    kor, eng, mat, sci = (int(x) for x in data[1:])\r\n",
        "    person_dict[name] = {'국어':kor, '영어':eng, '수학':mat, '과학':sci}\r\n",
        "\r\n",
        "json_data = json.dumps(person_dict, ensure_ascii=False, indent=4) #한글 보존, indent 추가\r\n",
        "print(json_data)"
      ],
      "execution_count": 169,
      "outputs": [
        {
          "output_type": "stream",
          "text": [
            "{\n",
            "    \"태서연\": {\n",
            "        \"국어\": 54,\n",
            "        \"영어\": 72,\n",
            "        \"수학\": 60,\n",
            "        \"과학\": 78\n",
            "    },\n",
            "    \"박서윤\": {\n",
            "        \"국어\": 62,\n",
            "        \"영어\": 78,\n",
            "        \"수학\": 16,\n",
            "        \"과학\": 81\n",
            "    },\n",
            "    \"정지우\": {\n",
            "        \"국어\": 66,\n",
            "        \"영어\": 72,\n",
            "        \"수학\": 32,\n",
            "        \"과학\": 74\n",
            "    },\n",
            "    \"정서현\": {\n",
            "        \"국어\": 56,\n",
            "        \"영어\": 80,\n",
            "        \"수학\": 67,\n",
            "        \"과학\": 85\n",
            "    },\n",
            "    \"박민서\": {\n",
            "        \"국어\": 64,\n",
            "        \"영어\": 92,\n",
            "        \"수학\": 11,\n",
            "        \"과학\": 66\n",
            "    },\n",
            "    \"이하은\": {\n",
            "        \"국어\": 85,\n",
            "        \"영어\": 35,\n",
            "        \"수학\": 71,\n",
            "        \"과학\": 90\n",
            "    },\n",
            "    \"정하윤\": {\n",
            "        \"국어\": 51,\n",
            "        \"영어\": 26,\n",
            "        \"수학\": 36,\n",
            "        \"과학\": 63\n",
            "    },\n",
            "    \"박윤서\": {\n",
            "        \"국어\": 77,\n",
            "        \"영어\": 84,\n",
            "        \"수학\": 32,\n",
            "        \"과학\": 93\n",
            "    },\n",
            "    \"정지민\": {\n",
            "        \"국어\": 73,\n",
            "        \"영어\": 28,\n",
            "        \"수학\": 66,\n",
            "        \"과학\": 70\n",
            "    },\n",
            "    \"박지유\": {\n",
            "        \"국어\": 51,\n",
            "        \"영어\": 34,\n",
            "        \"수학\": 55,\n",
            "        \"과학\": 63\n",
            "    },\n",
            "    \"김채원\": {\n",
            "        \"국어\": 77,\n",
            "        \"영어\": 72,\n",
            "        \"수학\": 29,\n",
            "        \"과학\": 75\n",
            "    },\n",
            "    \"김지윤\": {\n",
            "        \"국어\": 78,\n",
            "        \"영어\": 27,\n",
            "        \"수학\": 41,\n",
            "        \"과학\": 67\n",
            "    },\n",
            "    \"박은서\": {\n",
            "        \"국어\": 61,\n",
            "        \"영어\": 52,\n",
            "        \"수학\": 38,\n",
            "        \"과학\": 65\n",
            "    },\n",
            "    \"김수아\": {\n",
            "        \"국어\": 51,\n",
            "        \"영어\": 32,\n",
            "        \"수학\": 26,\n",
            "        \"과학\": 91\n",
            "    },\n",
            "    \"정다은\": {\n",
            "        \"국어\": 59,\n",
            "        \"영어\": 50,\n",
            "        \"수학\": 63,\n",
            "        \"과학\": 71\n",
            "    },\n",
            "    \"박예은\": {\n",
            "        \"국어\": 73,\n",
            "        \"영어\": 29,\n",
            "        \"수학\": 78,\n",
            "        \"과학\": 99\n",
            "    },\n",
            "    \"태수빈\": {\n",
            "        \"국어\": 51,\n",
            "        \"영어\": 34,\n",
            "        \"수학\": 44,\n",
            "        \"과학\": 76\n",
            "    },\n",
            "    \"이지아\": {\n",
            "        \"국어\": 53,\n",
            "        \"영어\": 32,\n",
            "        \"수학\": 56,\n",
            "        \"과학\": 70\n",
            "    },\n",
            "    \"정소율\": {\n",
            "        \"국어\": 55,\n",
            "        \"영어\": 54,\n",
            "        \"수학\": 28,\n",
            "        \"과학\": 94\n",
            "    },\n",
            "    \"정예원\": {\n",
            "        \"국어\": 65,\n",
            "        \"영어\": 74,\n",
            "        \"수학\": 75,\n",
            "        \"과학\": 99\n",
            "    },\n",
            "    \"김예린\": {\n",
            "        \"국어\": 94,\n",
            "        \"영어\": 93,\n",
            "        \"수학\": 72,\n",
            "        \"과학\": 81\n",
            "    },\n",
            "    \"이지원\": {\n",
            "        \"국어\": 61,\n",
            "        \"영어\": 41,\n",
            "        \"수학\": 32,\n",
            "        \"과학\": 100\n",
            "    },\n",
            "    \"태소윤\": {\n",
            "        \"국어\": 87,\n",
            "        \"영어\": 23,\n",
            "        \"수학\": 86,\n",
            "        \"과학\": 97\n",
            "    },\n",
            "    \"이지안\": {\n",
            "        \"국어\": 53,\n",
            "        \"영어\": 38,\n",
            "        \"수학\": 57,\n",
            "        \"과학\": 66\n",
            "    },\n",
            "    \"태유진\": {\n",
            "        \"국어\": 81,\n",
            "        \"영어\": 68,\n",
            "        \"수학\": 83,\n",
            "        \"과학\": 66\n",
            "    },\n",
            "    \"박시은\": {\n",
            "        \"국어\": 84,\n",
            "        \"영어\": 94,\n",
            "        \"수학\": 56,\n",
            "        \"과학\": 63\n",
            "    },\n",
            "    \"정하린\": {\n",
            "        \"국어\": 86,\n",
            "        \"영어\": 29,\n",
            "        \"수학\": 32,\n",
            "        \"과학\": 78\n",
            "    },\n",
            "    \"정채은\": {\n",
            "        \"국어\": 93,\n",
            "        \"영어\": 47,\n",
            "        \"수학\": 44,\n",
            "        \"과학\": 93\n",
            "    },\n",
            "    \"정가은\": {\n",
            "        \"국어\": 76,\n",
            "        \"영어\": 34,\n",
            "        \"수학\": 12,\n",
            "        \"과학\": 60\n",
            "    },\n",
            "    \"김윤아\": {\n",
            "        \"국어\": 79,\n",
            "        \"영어\": 31,\n",
            "        \"수학\": 75,\n",
            "        \"과학\": 79\n",
            "    },\n",
            "    \"정서영\": {\n",
            "        \"국어\": 54,\n",
            "        \"영어\": 52,\n",
            "        \"수학\": 32,\n",
            "        \"과학\": 62\n",
            "    },\n",
            "    \"정유나\": {\n",
            "        \"국어\": 91,\n",
            "        \"영어\": 25,\n",
            "        \"수학\": 42,\n",
            "        \"과학\": 77\n",
            "    },\n",
            "    \"정민지\": {\n",
            "        \"국어\": 74,\n",
            "        \"영어\": 55,\n",
            "        \"수학\": 23,\n",
            "        \"과학\": 74\n",
            "    },\n",
            "    \"김예진\": {\n",
            "        \"국어\": 86,\n",
            "        \"영어\": 27,\n",
            "        \"수학\": 56,\n",
            "        \"과학\": 79\n",
            "    },\n",
            "    \"박수민\": {\n",
            "        \"국어\": 58,\n",
            "        \"영어\": 59,\n",
            "        \"수학\": 71,\n",
            "        \"과학\": 64\n",
            "    },\n",
            "    \"이수연\": {\n",
            "        \"국어\": 98,\n",
            "        \"영어\": 81,\n",
            "        \"수학\": 31,\n",
            "        \"과학\": 94\n",
            "    },\n",
            "    \"태연우\": {\n",
            "        \"국어\": 67,\n",
            "        \"영어\": 76,\n",
            "        \"수학\": 41,\n",
            "        \"과학\": 64\n",
            "    },\n",
            "    \"태서아\": {\n",
            "        \"국어\": 73,\n",
            "        \"영어\": 27,\n",
            "        \"수학\": 52,\n",
            "        \"과학\": 100\n",
            "    },\n",
            "    \"박예나\": {\n",
            "        \"국어\": 61,\n",
            "        \"영어\": 67,\n",
            "        \"수학\": 81,\n",
            "        \"과학\": 63\n",
            "    },\n",
            "    \"태예서\": {\n",
            "        \"국어\": 79,\n",
            "        \"영어\": 68,\n",
            "        \"수학\": 51,\n",
            "        \"과학\": 80\n",
            "    },\n",
            "    \"정주아\": {\n",
            "        \"국어\": 83,\n",
            "        \"영어\": 95,\n",
            "        \"수학\": 44,\n",
            "        \"과학\": 93\n",
            "    },\n",
            "    \"김시연\": {\n",
            "        \"국어\": 92,\n",
            "        \"영어\": 95,\n",
            "        \"수학\": 37,\n",
            "        \"과학\": 85\n",
            "    },\n",
            "    \"태연서\": {\n",
            "        \"국어\": 80,\n",
            "        \"영어\": 35,\n",
            "        \"수학\": 60,\n",
            "        \"과학\": 83\n",
            "    },\n",
            "    \"태하율\": {\n",
            "        \"국어\": 92,\n",
            "        \"영어\": 98,\n",
            "        \"수학\": 17,\n",
            "        \"과학\": 82\n",
            "    },\n",
            "    \"박다인\": {\n",
            "        \"국어\": 66,\n",
            "        \"영어\": 54,\n",
            "        \"수학\": 25,\n",
            "        \"과학\": 100\n",
            "    },\n",
            "    \"박다연\": {\n",
            "        \"국어\": 70,\n",
            "        \"영어\": 73,\n",
            "        \"수학\": 32,\n",
            "        \"과학\": 70\n",
            "    },\n",
            "    \"김현서\": {\n",
            "        \"국어\": 72,\n",
            "        \"영어\": 68,\n",
            "        \"수학\": 25,\n",
            "        \"과학\": 75\n",
            "    },\n",
            "    \"김아인\": {\n",
            "        \"국어\": 95,\n",
            "        \"영어\": 52,\n",
            "        \"수학\": 61,\n",
            "        \"과학\": 60\n",
            "    },\n",
            "    \"박서은\": {\n",
            "        \"국어\": 89,\n",
            "        \"영어\": 83,\n",
            "        \"수학\": 38,\n",
            "        \"과학\": 88\n",
            "    },\n",
            "    \"태시아\": {\n",
            "        \"국어\": 51,\n",
            "        \"영어\": 91,\n",
            "        \"수학\": 17,\n",
            "        \"과학\": 88\n",
            "    },\n",
            "    \"정유주\": {\n",
            "        \"국어\": 87,\n",
            "        \"영어\": 72,\n",
            "        \"수학\": 45,\n",
            "        \"과학\": 62\n",
            "    },\n",
            "    \"이서진\": {\n",
            "        \"국어\": 61,\n",
            "        \"영어\": 73,\n",
            "        \"수학\": 35,\n",
            "        \"과학\": 69\n",
            "    },\n",
            "    \"정유빈\": {\n",
            "        \"국어\": 77,\n",
            "        \"영어\": 56,\n",
            "        \"수학\": 82,\n",
            "        \"과학\": 84\n",
            "    },\n",
            "    \"박하연\": {\n",
            "        \"국어\": 82,\n",
            "        \"영어\": 25,\n",
            "        \"수학\": 28,\n",
            "        \"과학\": 62\n",
            "    },\n",
            "    \"정채윤\": {\n",
            "        \"국어\": 54,\n",
            "        \"영어\": 32,\n",
            "        \"수학\": 48,\n",
            "        \"과학\": 92\n",
            "    },\n",
            "    \"김서우\": {\n",
            "        \"국어\": 88,\n",
            "        \"영어\": 45,\n",
            "        \"수학\": 47,\n",
            "        \"과학\": 83\n",
            "    },\n",
            "    \"이서율\": {\n",
            "        \"국어\": 81,\n",
            "        \"영어\": 52,\n",
            "        \"수학\": 95,\n",
            "        \"과학\": 81\n",
            "    },\n",
            "    \"정수현\": {\n",
            "        \"국어\": 51,\n",
            "        \"영어\": 41,\n",
            "        \"수학\": 71,\n",
            "        \"과학\": 95\n",
            "    },\n",
            "    \"이지율\": {\n",
            "        \"국어\": 87,\n",
            "        \"영어\": 72,\n",
            "        \"수학\": 49,\n",
            "        \"과학\": 77\n",
            "    },\n",
            "    \"박아린\": {\n",
            "        \"국어\": 58,\n",
            "        \"영어\": 36,\n",
            "        \"수학\": 55,\n",
            "        \"과학\": 92\n",
            "    },\n",
            "    \"정나윤\": {\n",
            "        \"국어\": 71,\n",
            "        \"영어\": 94,\n",
            "        \"수학\": 81,\n",
            "        \"과학\": 70\n",
            "    },\n",
            "    \"박예지\": {\n",
            "        \"국어\": 57,\n",
            "        \"영어\": 42,\n",
            "        \"수학\": 46,\n",
            "        \"과학\": 95\n",
            "    },\n",
            "    \"박다현\": {\n",
            "        \"국어\": 66,\n",
            "        \"영어\": 99,\n",
            "        \"수학\": 31,\n",
            "        \"과학\": 72\n",
            "    },\n",
            "    \"이민주\": {\n",
            "        \"국어\": 76,\n",
            "        \"영어\": 83,\n",
            "        \"수학\": 24,\n",
            "        \"과학\": 70\n",
            "    },\n",
            "    \"태지은\": {\n",
            "        \"국어\": 98,\n",
            "        \"영어\": 68,\n",
            "        \"수학\": 25,\n",
            "        \"과학\": 92\n",
            "    },\n",
            "    \"이나연\": {\n",
            "        \"국어\": 77,\n",
            "        \"영어\": 95,\n",
            "        \"수학\": 65,\n",
            "        \"과학\": 99\n",
            "    },\n",
            "    \"박소은\": {\n",
            "        \"국어\": 79,\n",
            "        \"영어\": 73,\n",
            "        \"수학\": 38,\n",
            "        \"과학\": 86\n",
            "    },\n",
            "    \"이시현\": {\n",
            "        \"국어\": 81,\n",
            "        \"영어\": 96,\n",
            "        \"수학\": 48,\n",
            "        \"과학\": 72\n",
            "    },\n",
            "    \"이윤지\": {\n",
            "        \"국어\": 100,\n",
            "        \"영어\": 80,\n",
            "        \"수학\": 25,\n",
            "        \"과학\": 77\n",
            "    },\n",
            "    \"박사랑\": {\n",
            "        \"국어\": 66,\n",
            "        \"영어\": 71,\n",
            "        \"수학\": 72,\n",
            "        \"과학\": 68\n",
            "    },\n",
            "    \"김예빈\": {\n",
            "        \"국어\": 79,\n",
            "        \"영어\": 79,\n",
            "        \"수학\": 27,\n",
            "        \"과학\": 98\n",
            "    },\n",
            "    \"박지현\": {\n",
            "        \"국어\": 65,\n",
            "        \"영어\": 23,\n",
            "        \"수학\": 81,\n",
            "        \"과학\": 89\n",
            "    },\n",
            "    \"박소연\": {\n",
            "        \"국어\": 56,\n",
            "        \"영어\": 57,\n",
            "        \"수학\": 35,\n",
            "        \"과학\": 66\n",
            "    },\n",
            "    \"정나은\": {\n",
            "        \"국어\": 99,\n",
            "        \"영어\": 45,\n",
            "        \"수학\": 41,\n",
            "        \"과학\": 90\n",
            "    },\n",
            "    \"태서하\": {\n",
            "        \"국어\": 57,\n",
            "        \"영어\": 57,\n",
            "        \"수학\": 80,\n",
            "        \"과학\": 78\n",
            "    },\n",
            "    \"이혜원\": {\n",
            "        \"국어\": 73,\n",
            "        \"영어\": 91,\n",
            "        \"수학\": 22,\n",
            "        \"과학\": 90\n",
            "    },\n",
            "    \"이지수\": {\n",
            "        \"국어\": 60,\n",
            "        \"영어\": 24,\n",
            "        \"수학\": 20,\n",
            "        \"과학\": 62\n",
            "    },\n",
            "    \"태은채\": {\n",
            "        \"국어\": 86,\n",
            "        \"영어\": 23,\n",
            "        \"수학\": 95,\n",
            "        \"과학\": 60\n",
            "    },\n",
            "    \"정아윤\": {\n",
            "        \"국어\": 62,\n",
            "        \"영어\": 97,\n",
            "        \"수학\": 31,\n",
            "        \"과학\": 83\n",
            "    },\n",
            "    \"박주하\": {\n",
            "        \"국어\": 70,\n",
            "        \"영어\": 21,\n",
            "        \"수학\": 22,\n",
            "        \"과학\": 71\n",
            "    },\n",
            "    \"이승아\": {\n",
            "        \"국어\": 61,\n",
            "        \"영어\": 80,\n",
            "        \"수학\": 45,\n",
            "        \"과학\": 85\n",
            "    },\n",
            "    \"정채아\": {\n",
            "        \"국어\": 71,\n",
            "        \"영어\": 53,\n",
            "        \"수학\": 82,\n",
            "        \"과학\": 68\n",
            "    },\n",
            "    \"정소민\": {\n",
            "        \"국어\": 63,\n",
            "        \"영어\": 72,\n",
            "        \"수학\": 33,\n",
            "        \"과학\": 97\n",
            "    },\n",
            "    \"이서희\": {\n",
            "        \"국어\": 87,\n",
            "        \"영어\": 53,\n",
            "        \"수학\": 81,\n",
            "        \"과학\": 80\n",
            "    },\n",
            "    \"태나현\": {\n",
            "        \"국어\": 88,\n",
            "        \"영어\": 38,\n",
            "        \"수학\": 46,\n",
            "        \"과학\": 77\n",
            "    },\n",
            "    \"김다윤\": {\n",
            "        \"국어\": 77,\n",
            "        \"영어\": 52,\n",
            "        \"수학\": 50,\n",
            "        \"과학\": 92\n",
            "    },\n",
            "    \"이민아\": {\n",
            "        \"국어\": 98,\n",
            "        \"영어\": 71,\n",
            "        \"수학\": 43,\n",
            "        \"과학\": 68\n",
            "    },\n",
            "    \"정채린\": {\n",
            "        \"국어\": 52,\n",
            "        \"영어\": 53,\n",
            "        \"수학\": 36,\n",
            "        \"과학\": 90\n",
            "    },\n",
            "    \"이하영\": {\n",
            "        \"국어\": 94,\n",
            "        \"영어\": 47,\n",
            "        \"수학\": 84,\n",
            "        \"과학\": 78\n",
            "    },\n",
            "    \"이세은\": {\n",
            "        \"국어\": 62,\n",
            "        \"영어\": 86,\n",
            "        \"수학\": 42,\n",
            "        \"과학\": 90\n",
            "    },\n",
            "    \"태도연\": {\n",
            "        \"국어\": 89,\n",
            "        \"영어\": 56,\n",
            "        \"수학\": 60,\n",
            "        \"과학\": 99\n",
            "    },\n",
            "    \"이규리\": {\n",
            "        \"국어\": 82,\n",
            "        \"영어\": 87,\n",
            "        \"수학\": 75,\n",
            "        \"과학\": 92\n",
            "    },\n",
            "    \"정아영\": {\n",
            "        \"국어\": 86,\n",
            "        \"영어\": 79,\n",
            "        \"수학\": 34,\n",
            "        \"과학\": 81\n",
            "    },\n",
            "    \"정세아\": {\n",
            "        \"국어\": 92,\n",
            "        \"영어\": 99,\n",
            "        \"수학\": 92,\n",
            "        \"과학\": 92\n",
            "    },\n",
            "    \"김지연\": {\n",
            "        \"국어\": 69,\n",
            "        \"영어\": 61,\n",
            "        \"수학\": 15,\n",
            "        \"과학\": 76\n",
            "    },\n",
            "    \"태예림\": {\n",
            "        \"국어\": 96,\n",
            "        \"영어\": 24,\n",
            "        \"수학\": 23,\n",
            "        \"과학\": 85\n",
            "    },\n",
            "    \"정가윤\": {\n",
            "        \"국어\": 69,\n",
            "        \"영어\": 36,\n",
            "        \"수학\": 26,\n",
            "        \"과학\": 63\n",
            "    },\n",
            "    \"정다온\": {\n",
            "        \"국어\": 95,\n",
            "        \"영어\": 73,\n",
            "        \"수학\": 19,\n",
            "        \"과학\": 68\n",
            "    },\n",
            "    \"이태희\": {\n",
            "        \"국어\": 86,\n",
            "        \"영어\": 54,\n",
            "        \"수학\": 94,\n",
            "        \"과학\": 62\n",
            "    },\n",
            "    \"이민채\": {\n",
            "        \"국어\": 85,\n",
            "        \"영어\": 97,\n",
            "        \"수학\": 38,\n",
            "        \"과학\": 69\n",
            "    }\n",
            "}\n"
          ],
          "name": "stdout"
        }
      ]
    },
    {
      "cell_type": "markdown",
      "metadata": {
        "id": "O1mnAj-rf2vC"
      },
      "source": [
        "**12. json 텍스트를 파이썬 오브젝트로 변환**\r\n",
        " - ''.join( list ) : 리스트에서 문자열으로"
      ]
    },
    {
      "cell_type": "code",
      "metadata": {
        "id": "_elQ1GRYf8ct",
        "colab": {
          "base_uri": "https://localhost:8080/"
        },
        "outputId": "e63f7e52-adf3-41f7-f66c-701ca3807565"
      },
      "source": [
        "with open('student_json', 'r', encoding=\"UTF-8-sig\") as fr:\r\n",
        "  json_data = json.load(fr) #파일에 저장된 JSON 텍스트를 파이썬 오브젝트로 변환\r\n",
        "print(json_data['태서연'])\r\n",
        "\r\n",
        "with open('student_json', 'r', encoding=\"UTF-8-sig\") as fr:\r\n",
        "  json_text = ''.join(fr.readlines())\r\n",
        "\r\n",
        "json_data = json.loads(json_text) #JSON 형태의 텍스트를 파이썬 오브젝트로 변환\r\n",
        "print(json_data[\"태서연\"])"
      ],
      "execution_count": 170,
      "outputs": [
        {
          "output_type": "stream",
          "text": [
            "{'국어': 54, '영어': 72, '수학': 60, '과학': 78}\n",
            "{'국어': 54, '영어': 72, '수학': 60, '과학': 78}\n"
          ],
          "name": "stdout"
        }
      ]
    },
    {
      "cell_type": "markdown",
      "metadata": {
        "id": "q1GZDlkzlo7v"
      },
      "source": [
        "**13. pickle 데이터 직렬화 저장 로딩**"
      ]
    },
    {
      "cell_type": "markdown",
      "metadata": {
        "id": "Tk-k51pim6LC"
      },
      "source": [
        "텍스트 상태의 데이터가 아닌 파이썬 객체 자체를 파일로 저장하는 것 입니다.\r\n",
        "\r\n",
        "\r\n",
        "\r\n",
        "\r\n",
        "\r\n",
        "**그러면 무엇이 좋나요?**\r\n",
        "\r\n",
        "\r\n",
        "\r\n",
        "만약 우리가 10GB 짜리 raw text 파일을 파싱하여 필요한 부분을 빼내서 사용한다고 해봅시다\r\n",
        "\r\n",
        "\r\n",
        "\r\n",
        "raw text 에 있는 내용을 프로그램을 돌릴 때 마다 파싱하여 필요한 부분을 뺀다면 비효율 적이겠죠?\r\n",
        "\r\n",
        "\r\n",
        "\r\n",
        "그래서 미리 필요한 부분을 딕셔너리 던, 리스트 던, 튜플 이던 저장을 해놓는 것 입니다..\r\n",
        "\r\n",
        "\r\n",
        "\r\n",
        "근데 문자열이 아닌 객체를 파일에 쓸 수 없기에,\r\n",
        "\r\n",
        "\r\n",
        "\r\n",
        "pickle 모듈을 활용해 그 객체 자체를 바이너리로 저장하는 것 입니다 !! ㅎㅎ\r\n",
        "\r\n",
        "\r\n",
        "\r\n",
        "\r\n",
        "\r\n",
        "그럼 pickle 모듈로 저장된 파일을 그냥 불러오기만 하면 되기에 속도도 훨씬 빠르겠지요\r\n",
        "\r\n",
        "\r\n",
        "\r\n",
        "출처: https://korbillgates.tistory.com/173 [생물정보학자의 블로그]"
      ]
    },
    {
      "cell_type": "code",
      "metadata": {
        "id": "bM4b6QiAi7wC",
        "colab": {
          "base_uri": "https://localhost:8080/"
        },
        "outputId": "ed477e47-afe9-4805-e70d-a9c47afc591a"
      },
      "source": [
        "import json\r\n",
        "import pickle\r\n",
        "\r\n",
        "with open ('student_json', 'r', encoding='UTF-8-sig') as fr:\r\n",
        "  json_data = json.load(fr)\r\n",
        "\r\n",
        "with open ('student_pickle', 'wb') as fw:\r\n",
        "  pickle.dump(json_data, fw)\r\n",
        "\r\n",
        "with open ('student_pickle', 'rb') as fr:\r\n",
        "  pickle_data = pickle.load(fr)\r\n",
        "\r\n",
        "print(pickle_data['태서연'])"
      ],
      "execution_count": 171,
      "outputs": [
        {
          "output_type": "stream",
          "text": [
            "{'국어': 54, '영어': 72, '수학': 60, '과학': 78}\n"
          ],
          "name": "stdout"
        }
      ]
    },
    {
      "cell_type": "markdown",
      "metadata": {
        "id": "HeQfHuCknTGG"
      },
      "source": [
        "**<스스로>14. 서울시 인구 통계 분석(실습)**\r\n",
        "- seoul_people_report (CSV) 파일을 기반으로 구명을 key 값을 가지는 딕셔너리로 변경\r\n",
        "\r\n",
        "- 구별 '외국인 비율', '6 세이상고령자 비율' 을 계산 후 각각 key( 외국인비율 , 고령자비율에 저장"
      ]
    }
  ]
}